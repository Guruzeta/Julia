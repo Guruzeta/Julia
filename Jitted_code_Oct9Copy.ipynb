{
 "cells": [
  {
   "cell_type": "code",
   "execution_count": 400,
   "id": "3c89d2b5",
   "metadata": {},
   "outputs": [],
   "source": [
    "import numpy as np\n",
    "import math\n",
    "import cmath\n",
    "import matplotlib.pyplot as plt\n",
    "import scipy.special as spl\n",
    "import scipy.integrate as integrate\n",
    "import pandas as pd\n",
    "from numba import jit,njit\n",
    "import numba as nb\n",
    "pie=np.pi"
   ]
  },
  {
   "cell_type": "code",
   "execution_count": 401,
   "id": "68b94946",
   "metadata": {},
   "outputs": [],
   "source": [
    "pie=np.pi\n",
    "# Time parameters\n",
    "h= 0.1 # enter the timestep to be used for simulation\n",
    "Time_max = 10\n",
    "Net_time=np.int64(np.floor(Time_max/h)) #\n",
    "testrange =Net_time\n",
    "\n",
    "\n",
    "Lambda= 1 #system bath coupling\n",
    "t_electron=1 #electron bandwidth= = σ\n",
    "a1=1  #lattice constant\n",
    "Temp_electron=0.1# electron temperature\n",
    "Temp_bath= 0.8 #the bath temperature\n",
    "mu_electron = 0  # chemical potential of the electron\n",
    "mu_bath = 2.5 #chem potential of the bath\n",
    "\n",
    "\n",
    "\n",
    "#volume parameters\n",
    "sitenum = 50 #the no. of sites in the lattice, same as number of momentum modes to be simulated - enter an ODD number\n",
    "a2=2*pie*(1/(sitenum*a1)) #reciprocal space lattice constant\n",
    "V_ph = np.arange(-0.5*sitenum*a2,0.5*a2*(sitenum+1),a2)#collect(-0.5*sitenum*a2:a2:0.5*a2*(sitenum+1))\n",
    "\n",
    "\n",
    "# electron parameters\n",
    "@njit\n",
    "def fermi(e,T,mu):\n",
    "    return 1/(np.exp((e-mu)*(1/T))+1)\n",
    "\n",
    "@njit\n",
    "def energy_electron(k):\n",
    "    return -2*t_electron*(np.cos(V_ph[k]*a1))\n",
    "\n",
    "@njit\n",
    "def Gretarded(k,t1,t2):\n",
    "    return (t1>=t2)*complex(0,-1)*np.exp(complex(0,-1)*energy_electron(k)*(t1-t2)*h)\n",
    "\n",
    "@njit\n",
    "def Gkeldysh(k,t1,t2,Telectron,mu):\n",
    "    return -complex(0,1)*np.tanh((energy_electron(k)-mu)/(2*Telectron))*np.exp(-complex(0,1)*energy_electron(k)*(t1-t2)*h)\n",
    "\n",
    "#Gkeldysh =lambda k,t1,t2,Telectron,mu: -complex(0,1)*np.tanh((energy_electron(k)-mu)/(2*Telectron))*np.exp(-complex(0,1)*energy_electron(k)*(t1-t2)*h)\n",
    "\n",
    "\n",
    "\n",
    "#bath parameters\n",
    "@njit\n",
    "def J(w,tB):\n",
    "    return (2/tB)*np.sqrt( 1- (w/(2*tB))**2 )\n",
    "#J = lambda w,tB: (2/tB)*np.sqrt( 1- (w/(2*tB))**2 )\n",
    "\n",
    "\n",
    "\n",
    "\n",
    "@njit\n",
    "def SigmaR(t1,t2,tB):\n",
    "    if t1>t2:\n",
    "        sum1= -complex(0,1)*(Lambda**2)*(1)*(1/(tB))*( spl.j1(2*tB*abs(t1-t2)*h) / (abs(t1-t2)*h ) )\n",
    "        return sum1\n",
    "    else:\n",
    "        return 0\n",
    "@njit\n",
    "def sigmak(w,tB):\n",
    "    return -complex(0,1)*(Lambda**2)*J(w,tB)*np.tanh((w-mu_bath)/(2*Temp_bath))\n",
    "#=lambda w,tB: -complex(0,1)*(Lambda**2)*J(w,tB)*np.tanh((w-mu_bath)/(2*Temp_bath))\n",
    "\n",
    "@njit\n",
    "def SigmaK(t1,t2,tB):\n",
    "    dw=(1/10000)*4*tB\n",
    "    steps = np.arange(-2*tB,2*tB,dw) #collect(-2*tB:dω:2*tB)\n",
    "    result=0\n",
    "    for w in steps:\n",
    "        result = result + dw*sigmak(w,tB)*np.exp(-complex(0,1)*w*(t1-t2)*h)\n",
    "\n",
    "    return result/(2*pie)\n",
    "\n",
    "\n",
    "\n",
    "### spawning Gr & Gk matrices\n",
    "\n",
    "@njit\n",
    "def matinit():\n",
    "    A=[]\n",
    "    for i in range(len(V_ph)+2):\n",
    "        A.append( np.zeros((Net_time+5,Net_time+5),dtype=np.complex128))#Array{ComplexF64,2}(undef,Net_time+5,Net_time+5)\n",
    "        #Gkmatrix.append( np.zeros((Net_time+5,Net_time+5),dtype=np.complex128))\n",
    "    return A\n",
    "\n",
    "\n",
    "## Box Initialization ###\n",
    "boxinitindex=1\n",
    "\n",
    "@njit\n",
    "def boxinit_gr(A):\n",
    "\n",
    "    for k in range(len(V_ph)):\n",
    "        for i in range(Net_time):\n",
    "            A[k][i,i] = -complex(0,1) #exactly true           ## Gr(t,t)≂̸0\n",
    "\n",
    "                ###actual Box Initialization ###\n",
    "\n",
    "    #GF Initialization\n",
    "\n",
    "    for k in range(len(V_ph)):\n",
    "        for i in range(boxinitindex+1):\n",
    "            for j in range(boxinitindex+1):\n",
    "                A[k][i,j] = Gretarded(k,i,j)\n",
    "\n",
    "\n",
    "\n",
    "@njit\n",
    "def boxinit_gk(A):\n",
    "    for k in range(len(V_ph)):\n",
    "        for i in range(boxinitindex+1):\n",
    "            for j in range(boxinitindex+1):\n",
    "                A[k][i,j] = Gkeldysh(k,i,j,Temp_electron,mu_electron)\n",
    "\n",
    "\n",
    "@njit\n",
    "def clearoff(A):\n",
    "    r = A.shape[0]\n",
    "    for i in range(r):\n",
    "        A[i] = np.zeros((Net_time+5,Net_time+5),dtype=np.complex128)\n",
    "                    \n",
    "                \n",
    "                \n",
    "                \n",
    "#matrix definitions\n",
    "\n",
    "Grmatrix =np.array(matinit())      #  #numba doesn't know what Gr array contains, I use a tuple to get around this\n",
    "Gkmatrix = np.array(matinit()) #Array{Array{ComplexF64,2},1}(undef,length(V_ph)+2)\n",
    "\n",
    "SigmaRmatrix = np.zeros(shape=(Net_time+5,Net_time+5),dtype=np.complex128)#Array{ComplexF64,2}(undef,Net_time+5,Net_time+5)\n",
    "SigmaKmatrix = np.zeros(shape=(Net_time+5,Net_time+5),dtype=np.complex128)#Array{ComplexF64,2}(undef,Net_time+5,Net_time+5)\n",
    "\n",
    "\n",
    "###\n",
    "### Code to update the Sigma R, Sigma K matrix\n",
    "@njit\n",
    "def sigmaK_init(A,tB):\n",
    "    # Sigma K matrix setup\n",
    "\n",
    "    for i in range(testrange):\n",
    "        A[i,0] = SigmaK(i,0,tB)\n",
    "        A[0,i] = -np.conj(A[i,0])\n",
    "\n",
    "    #\n",
    "    # for i in range(testrange):\n",
    "    #     A[0,i] = SigmaK(0,i,tB)\n",
    "\n",
    "    for j in range(testrange):\n",
    "        for i in range(j,testrange):\n",
    "            A[i,j] = A[i-j,0]\n",
    "\n",
    "    for j in range(testrange):\n",
    "        for i in range(j,testrange):\n",
    "            A[j,i] = A[0,i-j]\n",
    "\n",
    "\n",
    "@njit\n",
    "def sigmaR_init(B,tB):\n",
    "    # Sigma R matrix setup\n",
    "    for i in range(testrange):\n",
    "        B[i,0] =SigmaR(i,0,tB)\n",
    "\n",
    "    for j in range(testrange):\n",
    "        for i in range(j,testrange):\n",
    "            B[i,j] = B[i-j,0]\n",
    "\n",
    "\n",
    "\n",
    "\n",
    "#### Convolution definitions\n",
    "@njit\n",
    "def Sgma_conv_Gr(k,t1,t2):\n",
    "    sum=0\n",
    "    if t1>t2:\n",
    "        sum= SigmaRmatrix[t1,t2]*Grmatrix[k][t2,t2]*(h/2)\n",
    "        for i in range(t2+1,t1):\n",
    "            sum = sum + SigmaRmatrix[t1,i]*Grmatrix[k][i,t2]*h\n",
    "        return sum\n",
    "\n",
    "    else:\n",
    "        return 0\n",
    "\n",
    "\n",
    "Sgma_conv_Gr(2,10,1)\n",
    "\n",
    "@njit\n",
    "def Sgma_conv_GK(k,t1,t2):\n",
    "    sum=0\n",
    "    if t1>1:\n",
    "        sum = sum + SigmaRmatrix[t1,1]*Gkmatrix[k][1,t2]*(h/2)\n",
    "\n",
    "        for i in range(2,t1):               #2:t1-1\n",
    "            sum = sum+SigmaRmatrix[t1,i]*Gkmatrix[k][i,t2]*h\n",
    "\n",
    "        return sum\n",
    "\n",
    "    else:\n",
    "        return 0\n",
    "\n",
    "\n",
    "\n",
    "@njit\n",
    "def Sgma_conv_GA(k,t1,t2):\n",
    "    if t2>1:\n",
    "        sum=0\n",
    "        sum=sum+SigmaKmatrix[t1,1]* np.conjugate(Grmatrix[k][t2,1]) * h*(1/2)  #starting 1/2\n",
    "        sum=sum+ SigmaKmatrix[t1,t2]* np.conjugate(Grmatrix[k][t2,t2]) * h*(1/2) #ending 1/2\n",
    "\n",
    "        for i in range(2,t2):# i=2:t2-1:\n",
    "            sum=sum+ SigmaKmatrix[t1,i]* np.conjugate(Grmatrix[k][t2,i]) * h   #middle ones, they get h & not h/2 due to double addition\n",
    "\n",
    "        return sum\n",
    "\n",
    "    else:\n",
    "        return 0\n",
    "\n",
    "\n",
    "### Keeping stuff here that helps in plotting the results\n",
    "\n",
    "energyrange=np.zeros(len(V_ph))\n",
    "for k in range(len(V_ph)):\n",
    "    energyrange[k]=energy_electron(k)\n",
    "\n",
    "@njit\n",
    "def quadtest(x,en,tB):\n",
    "    return (1/pie)*(1*fermi(x,Temp_bath,mu_bath))*(Lambda**2)*(J(x,tB))*( 1/( (x-en)**2 + (Lambda**2*J(x,tB))**2 ) )\n",
    "\n",
    "\n",
    "def newres(e,hop):  # computes n(E) i.e. equilibrium occupation at energy E using bath spectral function\n",
    "    return integrate.quad(quadtest, -2*hop,2*hop,args=(e,hop))\n"
   ]
  },
  {
   "cell_type": "code",
   "execution_count": 413,
   "id": "6a7c0d75",
   "metadata": {},
   "outputs": [],
   "source": [
    "## code for evolution equations\n",
    "def evolution(tB,SigmaRmatrix,SigmaKmatrix,Grmatrix,Gkmatrix):\n",
    "    \n",
    "    clearoff(Grmatrix)\n",
    "    clearoff(Gkmatrix)\n",
    "    boxinit_gr(Grmatrix)\n",
    "    boxinit_gk(Gkmatrix)\n",
    "    sigmaK_init(SigmaKmatrix,tB)\n",
    "    sigmaR_init(SigmaRmatrix,tB)\n",
    "    \n",
    "    ###################################### Evolution equations start here #############################\n",
    "\n",
    "    ####### Gr evolution #########\n",
    "    \n",
    "    for i in range(boxinitindex,testrange+1):     ### The diagonal value #should probably start from 2\n",
    "        # Update GR, GK edges\n",
    "        for k in range(len(V_ph)):\n",
    "            for j in range(i+1):\n",
    "                bessellimit = -complex(0,1)*(Lambda**2)*(1)#*(1)*(1/(tB))*2*tB*(1/2)# *(besselj1(2*tB*abs(t1-t2)*h)/(abs(t1-t2)*h))\n",
    "                endpoint = (h/2)* Gretarded(k,i+1,i+1)*bessellimit*(h/2)\n",
    "                endpnt = 1/(1-endpoint)\n",
    "                Grmatrix[k][i+1,j] = ( complex(0,1)*Gretarded(k,i+1,i)*Grmatrix[k][i,j]+ (h/2)* Gretarded(k,i+1,i)*(Sgma_conv_Gr(k,i,j) + (h/2)*bessellimit*Grmatrix[k][i,j] ) + (h/2)* Gretarded(k,i+1,i+1)*Sgma_conv_Gr(k,i+1,j) )*endpnt\n",
    "\n",
    "\n",
    "\n",
    "\n",
    "\n",
    "    ######### GK evolution ##############\n",
    "\n",
    "    for i in range(boxinitindex,testrange+1):     ### The diagonal value #should probably start from 2\n",
    "\n",
    "        # Update GR, GK edges\n",
    "        for k in range(len(V_ph)):\n",
    "            for j in range(i+1):\n",
    "                bessellimit = -complex(0,1)*(Lambda**2)*(1) #*(1)*(1/(tB))*2*tB*(1/2)# *(besselj1(2*tB*abs(t1-t2)*h)/(abs(t1-t2)*h))\n",
    "                endpoint = (h/2)* Gretarded(k,i+1,i+1)*bessellimit*(h/2)\n",
    "                endpnt=1/(1-endpoint)\n",
    "                Gkmatrix[k][i+1,j] = (complex(0,1)*Gretarded(k,i+1,i)*Gkmatrix[k][i,j]+ (h/2) * Gretarded(k,i+1,i) * ( Sgma_conv_GK(k,i,j)+ h/2*bessellimit*Gkmatrix[k][i,j] + Sgma_conv_GA(k,i,j) )+ (h/2) * Gretarded(k,i+1,i+1) * ( Sgma_conv_GK(k,i+1,j) + Sgma_conv_GA(k,i+1,j) ) )*endpnt\n",
    "                Gkmatrix[k][j,i+1] = - np.conj(Gkmatrix[k][i+1,j]) # iGᴷ is hermitian  ⟹ iGᴷ(1,2) = conj((iGᴷ(2,1)) ⟹ Gᴷ(1,2) = - conj(Gᴷ(2,1))\n",
    "\n",
    "\n",
    "        ## Diagonal terms update ##\n",
    "        #Update GK(t+ϵ,t+ϵ) i.e GK(i+1,i+1) here  - needs Σₑᴿ on the i+1 block edges  i.e.\n",
    "        for k in range(len(V_ph)):\n",
    "            bessellimit = -complex(0,1)*(Lambda**2)*(1)#*(1)*(1/(tB))*2*tB*(1/2)# *(besselj1(2*tB*abs(t1-t2)*h)/(abs(t1-t2)*h))\n",
    "            endpoint = (h/2)* Gretarded(k,i+1,i+1)*bessellimit*(h/2)\n",
    "            endpnt=1/(1-endpoint)\n",
    "            Gkmatrix[k][i+1,i+1] = (complex(0,1)*Gretarded(k,i+1,i)*Gkmatrix[k][i,i+1]+ (h/2)*Gretarded(k,i+1,i)*(Sgma_conv_GK(k,i,i+1)+h/2*bessellimit*Gkmatrix[k][i,i+1] + Sgma_conv_GA(k,i,i+1))+ (h/2) * Gretarded(k,i+1,i+1) * ( Sgma_conv_GK(k,i+1,i+1) + Sgma_conv_GA(k,i+1,i+1) ) )*endpnt\n",
    "\n",
    "    ########################### Evolution equations end here #############################\n",
    "    return Gkmatrix\n"
   ]
  },
  {
   "cell_type": "code",
   "execution_count": 403,
   "id": "b52bd779",
   "metadata": {},
   "outputs": [],
   "source": [
    "jitted_evolution = njit()(evolution)"
   ]
  },
  {
   "cell_type": "code",
   "execution_count": 404,
   "id": "e086f7b1",
   "metadata": {},
   "outputs": [],
   "source": [
    "# ENTER THE LIST OF BATH-BANDWIDTH VALUES HERE\n",
    "testlist=[31]"
   ]
  },
  {
   "cell_type": "code",
   "execution_count": 415,
   "id": "aad50f3a",
   "metadata": {},
   "outputs": [],
   "source": [
    "# jitted_evolution(bandwidth,SigmaRmatrix,SigmaKmatrix,Grmatrix,Gkmatrix)"
   ]
  },
  {
   "cell_type": "code",
   "execution_count": 405,
   "id": "3c90dace",
   "metadata": {},
   "outputs": [
    {
     "ename": "TypeError",
     "evalue": "only length-1 arrays can be converted to Python scalars",
     "output_type": "error",
     "traceback": [
      "\u001b[0;31m---------------------------------------------------------------------------\u001b[0m",
      "\u001b[0;31mTypeError\u001b[0m                                 Traceback (most recent call last)",
      "\u001b[0;32m<timed exec>\u001b[0m in \u001b[0;36m<module>\u001b[0;34m\u001b[0m\n",
      "\u001b[0;31mTypeError\u001b[0m: only length-1 arrays can be converted to Python scalars"
     ]
    }
   ],
   "source": [
    "%%time \n",
    "\n",
    "#### FINAL LOOP THAT RUNS OVER ALL BATH BANDWIDTH - OUTPUTS EXCEL FILES\n",
    "for bandwidth in testlist:\n",
    "    output = jitted_evolution(bandwidth,SigmaRmatrix,SigmaKmatrix,Grmatrix,Gkmatrix)[0]\n",
    "    occupations= np.zeros((len(V_ph),testrange),dtype=np.complex128)\n",
    "    for i in range(testrange):\n",
    "        for j in range(len(V_ph)):\n",
    "            occupations[j,i]= (1+np.imag(output[j][i,i]))*0.5\n",
    "\n",
    "    newoccu=[]\n",
    "    # thermal value storage - from bath spectral function\n",
    "\n",
    "    for k in range(len(V_ph)):\n",
    "       val = newres(energy_electron(k),bandwidth)[0]\n",
    "       newoccu.append(val)\n",
    "    \n",
    "    \n",
    "#     outputfile=open(\"/Users/apple/Desktop/Bath bandwidth=%g,Telectron = %g,\\n Tbath =%g, mu_bath=%g,mu_electron=%g, time= %g * %g.csv\" %(bandwidth,Temp_electron,Temp_bath,mu_bath,mu_electron,h,testrange),\"w\")\n",
    "#     outputfile.write(\"Energy, Occupation \\n\")\n",
    "#     outputfile.write(\"Value from formula\")\n",
    "\n",
    "#     outputfile.write(\"\\n\")\n",
    "\n",
    "#     for k in range(len(V_ph)):\n",
    "#         row_string=\"{},{}\".format(energyrange[k],newoccu[k])\n",
    "#         outputfile.write(row_string)\n",
    "#         outputfile.write(\"\\n\")\n",
    "#     outputfile.write(\"total time %g\" %(Net_time))\n",
    "#     outputfile.close()\n",
    "    \n",
    "#     pd.DataFrame(occupations).to_csv(\"/Users/apple/Desktop/Bath_bandwidth=%g,Telectron = %g,\\n Tbath =%g, mu_bath=%g,mu_electron=%g, time= %g * %g.csv\"%(bandwidth,Temp_electron,Temp_bath,mu_bath,mu_electron,h,testrange))\n",
    "  \n",
    "\n"
   ]
  },
  {
   "cell_type": "code",
   "execution_count": 377,
   "id": "2050b2c7",
   "metadata": {},
   "outputs": [
    {
     "name": "stdout",
     "output_type": "stream",
     "text": [
      "(0.512842086588107, 1.6149859424594178e-09)\n",
      "(0.5, 5.551115123125783e-15)\n",
      "31\n"
     ]
    }
   ],
   "source": [
    "# density comparison\n",
    "\n",
    "s1 = lambda k,T,mu,te:1/(np.exp((-2*te*(np.cos(k*a1))-mu)*(1/T))+1)*(1/(2*pie))\n",
    "rho_system = integrate.quad(s1,-pie/a1,pie/a1,args=(Temp_electron,mu_electron,t_electron))\n",
    "rho_bath = integrate.quad(s1,-pie/a1,pie/a1,args=(Temp_bath,mu_bath,bandwidth))\n",
    "print(rho_bath)\n",
    "print(rho_system)\n",
    "print(bandwidth)"
   ]
  },
  {
   "cell_type": "code",
   "execution_count": 378,
   "id": "f31c6019",
   "metadata": {},
   "outputs": [
    {
     "data": {
      "text/plain": [
       "<matplotlib.legend.Legend at 0x7f9d805077f0>"
      ]
     },
     "execution_count": 378,
     "metadata": {},
     "output_type": "execute_result"
    },
    {
     "data": {
      "image/png": "[encoded data removed]",
      "text/plain": [
       "<Figure size 720x432 with 1 Axes>"
      ]
     },
     "metadata": {
      "needs_background": "light"
     },
     "output_type": "display_data"
    }
   ],
   "source": [
    "plt.figure(figsize=(10,6))\n",
    "\n",
    "\n",
    "plt.plot(np.arange(51),np.real(occupations[:,0]),'-o',label='code initial')\n",
    "plt.plot(np.arange(51),newoccu,'-->',label='thermal final')\n",
    "plt.plot(np.arange(51),np.real(occupations[:,499]),'-.*',label='code final')\n",
    "\n",
    "\n",
    "# plt.plot(energy_electron(np.arange(51)),np.real(occupations[:,0]),'-o',label='code initial')\n",
    "# plt.plot(energy_electron(np.arange(51)),newoccu,'-->',label='thermal final')\n",
    "# plt.plot(energy_electron(np.arange(51)),np.real(occupations[:,499]),'-.*',label='code final')\n",
    "plt.title(\"Bath_bandwidth=%g,Telectron = %g,\\n Tbath =%g, mu_bath=%g,mu_electron=%g, time= %g * %g,\\n rho_bath=%g,rho_system=%g\"%(bandwidth,Temp_electron,Temp_bath,mu_bath,mu_electron,h,testrange,rho_bath[0],rho_system[0]))\n",
    "plt.legend()\n",
    "#plt.savefig(\"fig5Oct9\")"
   ]
  },
  {
   "cell_type": "code",
   "execution_count": 379,
   "id": "c86f6dd4",
   "metadata": {},
   "outputs": [],
   "source": [
    "# occupations.shape"
   ]
  },
  {
   "cell_type": "code",
   "execution_count": 380,
   "id": "025345f9",
   "metadata": {},
   "outputs": [],
   "source": [
    "# len(occupations[1:,499])"
   ]
  },
  {
   "cell_type": "code",
   "execution_count": 381,
   "id": "d2a4374b",
   "metadata": {},
   "outputs": [],
   "source": [
    "# testing=np.arange(0,100,10)"
   ]
  },
  {
   "cell_type": "code",
   "execution_count": 382,
   "id": "c043520a",
   "metadata": {},
   "outputs": [],
   "source": [
    "# for i in testing:\n",
    "#     print(integrate.quad(s1,-pie/a1,pie/a1,args=(Temp_bath,mu_bath,i)))"
   ]
  },
  {
   "cell_type": "code",
   "execution_count": 383,
   "id": "e5e81a3e",
   "metadata": {},
   "outputs": [],
   "source": [
    "# print(integrate.quad(s1,-pie/a1,pie/a1,args=(Temp_bath,mu_bath,30)))"
   ]
  },
  {
   "cell_type": "code",
   "execution_count": null,
   "id": "5154090c",
   "metadata": {},
   "outputs": [],
   "source": []
  },
  {
   "cell_type": "code",
   "execution_count": null,
   "id": "08fced4e",
   "metadata": {},
   "outputs": [],
   "source": []
  },
  {
   "cell_type": "code",
   "execution_count": null,
   "id": "0732612c",
   "metadata": {},
   "outputs": [],
   "source": []
  },
  {
   "cell_type": "markdown",
   "id": "6ef5e561",
   "metadata": {},
   "source": [
    "### Density Comparison"
   ]
  },
  {
   "cell_type": "code",
   "execution_count": 384,
   "id": "e7e7e8c4",
   "metadata": {},
   "outputs": [],
   "source": [
    "# # density comparison\n",
    "\n",
    "# s1 = lambda k,T,mu,te:1/(np.exp((-2*te*(np.cos(k*a1))-mu)*(1/T))+1)*(1/(2*pie))"
   ]
  },
  {
   "cell_type": "code",
   "execution_count": 385,
   "id": "f3e365c8",
   "metadata": {},
   "outputs": [],
   "source": [
    "# rho_system = integrate.quad(s1,-pie/a1,pie/a1,args=(Temp_electron,mu_electron,t_electron))\n",
    "# rho_system\n",
    "# #telectron = 1"
   ]
  },
  {
   "cell_type": "code",
   "execution_count": 386,
   "id": "024c3292",
   "metadata": {},
   "outputs": [],
   "source": [
    "# rho_bath = integrate.quad(s1,-pie/a1,pie/a1,args=(Temp_bath,mu_bath,32))\n",
    "# rho_bath"
   ]
  },
  {
   "cell_type": "code",
   "execution_count": 387,
   "id": "8a2d6090",
   "metadata": {},
   "outputs": [],
   "source": [
    "# lst = [8,12,16,18,20,25,28,32,40,50,80,100,200,1000]\n",
    "# # lst=np.array(lst)\n",
    "# # integrate.quad(s1,-pie,pie,args=(Temp_bath,20,lst))\n",
    "\n",
    "# for i in lst:\n",
    "#     print(i,integrate.quad(s1,-pie,pie,args=(Temp_bath,20,i)))"
   ]
  },
  {
   "cell_type": "code",
   "execution_count": 388,
   "id": "5570ddd9",
   "metadata": {},
   "outputs": [],
   "source": [
    "# Temp_electro = 0.1\n",
    "# t_electron= 2\n",
    "# Temp_bath= 0.8\n",
    "# tb = 8\n",
    "# mu_bath= 2.5\n",
    "# mu_electro = 0\n",
    "\n",
    "# def energyelectron(k,t):\n",
    "#     return -2*t*(np.cos(V_ph[k]*a1))\n",
    "\n",
    "# def quadtest(x,en,tB):\n",
    "#     return (1/pie)*(1*fermi(x,Temp_bath,mu_bath))*(Lambda**2)*(J(x,tB))*( 1/( (x-en)**2 + (Lambda**2*J(x,tB))**2 ) )\n",
    "\n",
    "\n",
    "# def newres(e,hop):  # computes n(E) i.e. equilibrium occupation at energy E using bath spectral function\n",
    "#     return integrate.quad(quadtest, -2*hop,2*hop,args=(e,hop))\n",
    "\n",
    "\n",
    "# rho_system = integrate.quad(s1,-pie/a1,pie/a1,args=(Temp_electro,mu_electro,t_electron))\n",
    "# print(\"rho_system = \",rho_system)\n",
    "# rho_bath = integrate.quad(s1,-pie/a1,pie/a1,args=(Temp_bath,mu_bath,tb))\n",
    "# print(\"rho_bath = \",rho_bath)\n",
    "\n",
    "\n",
    "# lst=[]# initial distribution\n",
    "# lst2=[] #final thermal distribution\n",
    "# lst3=[] #fermi distribution at initial temperature\n",
    "\n",
    "# for i in range(sitenum):\n",
    "#     lst3.append(fermi(energyelectron(i,t_electron),Temp_electro,mu_electro))\n",
    "#     lst2.append(newres(energyelectron(i,t_electron),tb)[0])\n",
    "#     lst.append((1+np.imag(Gkeldysh(i,0,0,Temp_electro,mu_electro)))*0.5)    #np.imag(Gkeldysh(i,1,1,Temp_electron,mu_electron))\n",
    "    \n",
    "# plt.figure(figsize=(10,6))\n",
    "# plt.plot(energyelectron(np.arange(50),t_electron),lst,'o',label='code intial')\n",
    "# plt.axvline(x=mu_electro,label='μ electron')\n",
    "# plt.axvline(x=mu_bath,color='green',label='μ bath')\n",
    "# plt.plot(energyelectron(np.arange(50),t_electron),lst2,'->',label='thermal final')\n",
    "# plt.plot(energyelectron(np.arange(50),t_electron),lst3,'*',label='fermi intial')\n",
    "# plt.legend()\n"
   ]
  },
  {
   "cell_type": "code",
   "execution_count": 389,
   "id": "8b4cb3cb",
   "metadata": {},
   "outputs": [],
   "source": [
    "import quadpy\n",
    "# @njit\n",
    "# def sigmak(w,tB):\n",
    "#     return -complex(0,1)*(Lambda**2)*J(w,tB)*np.tanh((w-mu_bath)/(2*Temp_bath))\n",
    "# #=lambda w,tB: -complex(0,1)*(Lambda**2)*J(w,tB)*np.tanh((w-mu_bath)/(2*Temp_bath))\n",
    "\n",
    "\n",
    "def SigmaK2(t1,t2,tB):\n",
    "    newfunc = lambda w,t1,t2,tB: sigmak(w,tB)*np.exp(-complex(0,1)*w*(t1-t2)*h)/(2*pie)\n",
    "    result = quadpy.quad(newfunc,-2*tB,2*tB,args=(t1,t2,tB))\n",
    "    return result"
   ]
  },
  {
   "cell_type": "code",
   "execution_count": 390,
   "id": "b16e83ef",
   "metadata": {},
   "outputs": [
    {
     "data": {
      "text/plain": [
       "((-0.11422039560324464+0.04868120457381132j), 5.6690987911124e-09)"
      ]
     },
     "execution_count": 390,
     "metadata": {},
     "output_type": "execute_result"
    }
   ],
   "source": [
    "SigmaK2(1,0,32)"
   ]
  },
  {
   "cell_type": "code",
   "execution_count": 391,
   "id": "81603230",
   "metadata": {},
   "outputs": [
    {
     "data": {
      "text/plain": [
       "(-0.11422027128345782+0.048681206822211984j)"
      ]
     },
     "execution_count": 391,
     "metadata": {},
     "output_type": "execute_result"
    }
   ],
   "source": [
    "SigmaK(1,0,32)"
   ]
  },
  {
   "cell_type": "code",
   "execution_count": 463,
   "id": "7ce066fc",
   "metadata": {},
   "outputs": [],
   "source": [
    "def sp1(ω,k):\n",
    "    sum=0\n",
    "    for i in range(testrange):\n",
    "        sum = sum + Grmatrix[k][i,1]*np.exp(complex(0,1)*ω*(i)*h)*h\n",
    "    return np.imag(sum)*(-1/pie)\n",
    "\n",
    "def sp2(ω,k):\n",
    "    sum=0\n",
    "    for i in range(testrange):\n",
    "        sum = sum + Grmatrix[k][i,1]*np.exp(complex(0,1)*ω*(i-1)*h)*h\n",
    "    return np.real(sum)*(-1/pie)\n",
    "\n",
    "\n"
   ]
  },
  {
   "cell_type": "code",
   "execution_count": 482,
   "id": "f8f59bee",
   "metadata": {},
   "outputs": [
    {
     "data": {
      "text/plain": [
       "(-68.2, 68.2)"
      ]
     },
     "execution_count": 482,
     "metadata": {},
     "output_type": "execute_result"
    },
    {
     "data": {
      "image/png": "[encoded data removed]",
      "text/plain": [
       "<Figure size 864x432 with 1 Axes>"
      ]
     },
     "metadata": {
      "needs_background": "light"
     },
     "output_type": "display_data"
    }
   ],
   "source": [
    "modeofinterest= 25\n",
    "omval = np.linspace(-5*bandwidth,5*bandwidth,1000)\n",
    "plt.figure(figsize=(12,6))\n",
    "plt.plot(omval,sp1(omval,modeofinterest))#,title=\"Plot of Im[Gʳ(ϵ,ω)] vs ω\")\n",
    "plt.axvline(x=2*bandwidth,color='green')\n",
    "plt.axvline(x=-2*bandwidth,color='green')\n",
    "plt.axvline(x=energy_electron(modeofinterest),color='black')\n",
    "#plt.plot(omval,sp2(omval,modeofinterest),'-*')\n",
    "plt.xlim(-2.2*bandwidth,2.2*bandwidth)\n",
    "\n",
    "#plt.title(\"Plot of Im[Gʳ(ϵ,ω)] vs ω for bandbottom mode\")\n",
    "\n"
   ]
  },
  {
   "cell_type": "code",
   "execution_count": 501,
   "id": "abfb5135",
   "metadata": {},
   "outputs": [],
   "source": [
    "def A(x,en):\n",
    "    if abs(x)<=2*bandwidth:\n",
    "        return (1/pie)*(Lambda**2)*(J(x,bandwidth))*(1/((x-en)**2 + (Lambda**2*J(x,bandwidth))**2))\n",
    "    else:\n",
    "        return 0\n"
   ]
  },
  {
   "cell_type": "code",
   "execution_count": 502,
   "id": "3421b1bf",
   "metadata": {},
   "outputs": [
    {
     "data": {
      "text/plain": [
       "0.020448359626344528"
      ]
     },
     "execution_count": 502,
     "metadata": {},
     "output_type": "execute_result"
    }
   ],
   "source": [
    "A(1,2)"
   ]
  },
  {
   "cell_type": "code",
   "execution_count": 510,
   "id": "3e4667e4",
   "metadata": {},
   "outputs": [
    {
     "data": {
      "text/plain": [
       "(-68.2, 68.2)"
      ]
     },
     "execution_count": 510,
     "metadata": {},
     "output_type": "execute_result"
    },
    {
     "data": {
      "image/png": "[encoded data removed]",
      "text/plain": [
       "<Figure size 864x432 with 1 Axes>"
      ]
     },
     "metadata": {
      "needs_background": "light"
     },
     "output_type": "display_data"
    }
   ],
   "source": [
    "moi= 25\n",
    "omval = np.linspace(-5*bandwidth,5*bandwidth,1000)\n",
    "listy=[]\n",
    "for i in omval:\n",
    "    #print(i)\n",
    "    listy.append(A(i,energy_electron(moi)))\n",
    "    \n",
    "plt.figure(figsize=(12,6))\n",
    "\n",
    "plt.plot(omval,listy)#,title=\"Plot of Im[Gʳ(ϵ,ω)] vs ω\")\n",
    "\n",
    "plt.axvline(x=2*bandwidth,color='green')\n",
    "plt.axvline(x=-2*bandwidth,color='green')\n",
    "#plt.axvline(x=energy_electron(modeofinterest),color='black')\n",
    "\n",
    "plt.xlim(-2.2*bandwidth,2.2*bandwidth)"
   ]
  },
  {
   "cell_type": "code",
   "execution_count": 493,
   "id": "afae3c7f",
   "metadata": {},
   "outputs": [
    {
     "data": {
      "text/plain": [
       "31"
      ]
     },
     "execution_count": 493,
     "metadata": {},
     "output_type": "execute_result"
    }
   ],
   "source": [
    "bandwidth"
   ]
  },
  {
   "cell_type": "code",
   "execution_count": 613,
   "id": "ad2348d6",
   "metadata": {},
   "outputs": [
    {
     "data": {
      "text/plain": [
       "<matplotlib.legend.Legend at 0x7f9d4f59f1c0>"
      ]
     },
     "execution_count": 613,
     "metadata": {},
     "output_type": "execute_result"
    },
    {
     "data": {
      "image/png": "[encoded data removed]",
      "text/plain": [
       "<Figure size 720x576 with 1 Axes>"
      ]
     },
     "metadata": {
      "needs_background": "light"
     },
     "output_type": "display_data"
    }
   ],
   "source": [
    "lst=np.arange(0,5000)\n",
    "bandwidth=8\n",
    "bandwidth2=24\n",
    "bandwidth3=80\n",
    "lst2 = [SigmaK(i,0,bandwidth)for i in lst]\n",
    "lst3= [SigmaK(i,0,bandwidth2)for i in lst]\n",
    "lst4= [SigmaK(i,0,bandwidth3)for i in lst]\n",
    "plt.figure(figsize=(10,8))\n",
    "#plt.plot(lst,np.real(lst2),'-o',label='real')\n",
    "plt.plot(lst*h,np.imag(lst2),'-o',label='%g'%(bandwidth))\n",
    "plt.plot(lst*h,np.imag(lst3),'-o',label='%g'%bandwidth2)\n",
    "# plt.plot(lst*h,np.imag(lst4),'-o',label='%g'%bandwidth3)\n",
    "plt.axvline(x=bandwidth,color='green')\n",
    "plt.axvline(x=bandwidth,color='green')\n",
    "plt.axhline(y=1e-15,color='green')\n",
    "plt.yscale(\"log\")\n",
    "plt.xscale(\"log\")\n",
    "# plt.ylim(0,)\n",
    "# plt.xlim(1e2,)\n",
    "#plt.ylim(,0.025)\n",
    "\n",
    "plt.title(\"Σk(t,0) for bandwidth = %g\"%bandwidth)\n",
    "plt.legend()"
   ]
  },
  {
   "cell_type": "code",
   "execution_count": 603,
   "id": "4249cd61",
   "metadata": {},
   "outputs": [
    {
     "data": {
      "text/plain": [
       "<matplotlib.legend.Legend at 0x7f9d0dbe2c40>"
      ]
     },
     "execution_count": 603,
     "metadata": {},
     "output_type": "execute_result"
    },
    {
     "data": {
      "image/png": "[encoded data removed]",
      "text/plain": [
       "<Figure size 720x576 with 1 Axes>"
      ]
     },
     "metadata": {
      "needs_background": "light"
     },
     "output_type": "display_data"
    }
   ],
   "source": [
    "bandwidth=8\n",
    "bandwidth2=80\n",
    "plt.figure(figsize=(10,8))\n",
    "omval=np.linspace(-2,2)\n",
    "#plt.plot(omval,np.real(sigmak(omval,bandwidth)))\n",
    "plt.plot(omval,np.imag(sigmak(omval*bandwidth,bandwidth)),'-o',label=\"%g\"%bandwidth)\n",
    "plt.plot(omval,np.imag(sigmak(omval*bandwidth2,bandwidth2)),'-o',label=\"%g\"%bandwidth2)\n",
    "plt.grid()\n",
    "plt.legend()"
   ]
  },
  {
   "cell_type": "code",
   "execution_count": 612,
   "id": "24f3a04c",
   "metadata": {},
   "outputs": [
    {
     "data": {
      "text/plain": [
       "finfo(resolution=1e-15, min=-1.7976931348623157e+308, max=1.7976931348623157e+308, dtype=float64)"
      ]
     },
     "execution_count": 612,
     "metadata": {},
     "output_type": "execute_result"
    }
   ],
   "source": [
    "np.finfo(float)"
   ]
  }
 ],
 "metadata": {
  "kernelspec": {
   "display_name": "Python 3",
   "language": "python",
   "name": "python3"
  },
  "language_info": {
   "codemirror_mode": {
    "name": "ipython",
    "version": 3
   },
   "file_extension": ".py",
   "mimetype": "text/x-python",
   "name": "python",
   "nbconvert_exporter": "python",
   "pygments_lexer": "ipython3",
   "version": "3.8.8"
  }
 },
 "nbformat": 4,
 "nbformat_minor": 5
}
