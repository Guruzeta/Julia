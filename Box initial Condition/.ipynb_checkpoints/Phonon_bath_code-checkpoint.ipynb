{
 "cells": [
  {
   "cell_type": "markdown",
   "metadata": {},
   "source": [
    "# Phonon Bath Code"
   ]
  },
  {
   "cell_type": "code",
   "execution_count": 1,
   "metadata": {},
   "outputs": [
    {
     "data": {
      "text/plain": [
       "5-element Array{Float64,1}:\n",
       " -3.141592653589793\n",
       " -1.5707963267948966\n",
       "  0.0\n",
       "  1.5707963267948966\n",
       "  3.141592653589793"
      ]
     },
     "execution_count": 1,
     "metadata": {},
     "output_type": "execute_result"
    }
   ],
   "source": [
    "######### Model/simulation parameters\n",
    "t𝑝=2 #phonon bandwidth\n",
    "tB=3 #bath bandwidth= = σ\n",
    "a1=1  #lattice constant\n",
    "λ𝑐= 1 #phonon-electron coupling\n",
    "\n",
    "T𝑝=1.75# phonon temperature\n",
    "\n",
    "\n",
    "\n",
    "#time-simulation parameters\n",
    "h= 0.08 #the time spacing\n",
    "Time_max = 50 #the net time\n",
    "N𝑡= Int64(Time_max/h) #\n",
    "\n",
    "\n",
    "#phonon volume parameters\n",
    "sitenum = 4 #gives the no. of sites in the lattice\n",
    "a2=2*π*(1/(sitenum*a1)) #reciprocal space lattice constant\n",
    "V_ph = collect(-0.5*sitenum*a2:a2:0.5*a2*(sitenum+1))\n",
    "#filter!(e->e!=0,V_ph) # not taking k=0 mode currently"
   ]
  },
  {
   "cell_type": "code",
   "execution_count": 2,
   "metadata": {},
   "outputs": [
    {
     "data": {
      "text/plain": [
       "D̄₀ᴷ (generic function with 1 method)"
      ]
     },
     "execution_count": 2,
     "metadata": {},
     "output_type": "execute_result"
    }
   ],
   "source": [
    "#Phonon definitions\n",
    "\n",
    "### Disperion relation\n",
    "function ω𝑝(k)\n",
    "    return t𝑝*abs(sin(V_ph[k]*a1*0.5))+0.2\n",
    "end\n",
    "\n",
    "\n",
    "### Definition of Bare D_0, Dzerobar, and D_zero_K\n",
    "function D₀ᴿ(k,t1,t2)\n",
    "    if t1>t2\n",
    "        return (-(1)*sin(ω𝑝(k)*(t1-t2)*h))/(ω𝑝(k))     # the equal to case shall give 0\n",
    "    else\n",
    "        return 0\n",
    "    end\n",
    "end\n",
    "\n",
    "function D̄₀ᴿ(k,t1,t2)\n",
    "    if t1>=t2                            ### What does D̄ do at equal times? produce 1? What if it rigorously doesn't hold?\n",
    "        return (-1*cos(ω𝑝(k)*(t1-t2)*h))\n",
    "    else\n",
    "        return 0\n",
    "    end                     #remember this is only true if t1>t2\n",
    "end\n",
    "\n",
    "\n",
    "function D₀ᴷ(k,t,t1,Tphonon)\n",
    "    a= (-im)*(cos(ω𝑝(k)*(t-t1)*h) * coth(ω𝑝(k)*0.5/(Tphonon)) )* (1/ω𝑝(k))\n",
    "    return a\n",
    "end\n",
    "\n",
    "function D̄₀ᴷ(k,t,t1,Tphonon)\n",
    "    return im*sin(ω𝑝(k)*(t-t1)*h)*coth(ω𝑝(k)*0.5/(Tphonon))\n",
    "end"
   ]
  },
  {
   "cell_type": "code",
   "execution_count": 10,
   "metadata": {
    "collapsed": true
   },
   "outputs": [
    {
     "data": {
      "text/plain": [
       "630×630 Array{Complex{Float64},2}:\n",
       " 0.0+0.0im  0.0+0.0im  0.0+0.0im  …  0.0+0.0im  0.0+0.0im  0.0+0.0im\n",
       " 0.0+0.0im  0.0+0.0im  0.0+0.0im     0.0+0.0im  0.0+0.0im  0.0+0.0im\n",
       " 0.0+0.0im  0.0+0.0im  0.0+0.0im     0.0+0.0im  0.0+0.0im  0.0+0.0im\n",
       " 0.0+0.0im  0.0+0.0im  0.0+0.0im     0.0+0.0im  0.0+0.0im  0.0+0.0im\n",
       " 0.0+0.0im  0.0+0.0im  0.0+0.0im     0.0+0.0im  0.0+0.0im  0.0+0.0im\n",
       " 0.0+0.0im  0.0+0.0im  0.0+0.0im  …  0.0+0.0im  0.0+0.0im  0.0+0.0im\n",
       " 0.0+0.0im  0.0+0.0im  0.0+0.0im     0.0+0.0im  0.0+0.0im  0.0+0.0im\n",
       " 0.0+0.0im  0.0+0.0im  0.0+0.0im     0.0+0.0im  0.0+0.0im  0.0+0.0im\n",
       " 0.0+0.0im  0.0+0.0im  0.0+0.0im     0.0+0.0im  0.0+0.0im  0.0+0.0im\n",
       " 0.0+0.0im  0.0+0.0im  0.0+0.0im     0.0+0.0im  0.0+0.0im  0.0+0.0im\n",
       " 0.0+0.0im  0.0+0.0im  0.0+0.0im  …  0.0+0.0im  0.0+0.0im  0.0+0.0im\n",
       " 0.0+0.0im  0.0+0.0im  0.0+0.0im     0.0+0.0im  0.0+0.0im  0.0+0.0im\n",
       " 0.0+0.0im  0.0+0.0im  0.0+0.0im     0.0+0.0im  0.0+0.0im  0.0+0.0im\n",
       "    ⋮                             ⋱                        \n",
       " 0.0+0.0im  0.0+0.0im  0.0+0.0im     0.0+0.0im  0.0+0.0im  0.0+0.0im\n",
       " 0.0+0.0im  0.0+0.0im  0.0+0.0im     0.0+0.0im  0.0+0.0im  0.0+0.0im\n",
       " 0.0+0.0im  0.0+0.0im  0.0+0.0im  …  0.0+0.0im  0.0+0.0im  0.0+0.0im\n",
       " 0.0+0.0im  0.0+0.0im  0.0+0.0im     0.0+0.0im  0.0+0.0im  0.0+0.0im\n",
       " 0.0+0.0im  0.0+0.0im  0.0+0.0im     0.0+0.0im  0.0+0.0im  0.0+0.0im\n",
       " 0.0+0.0im  0.0+0.0im  0.0+0.0im     0.0+0.0im  0.0+0.0im  0.0+0.0im\n",
       " 0.0+0.0im  0.0+0.0im  0.0+0.0im     0.0+0.0im  0.0+0.0im  0.0+0.0im\n",
       " 0.0+0.0im  0.0+0.0im  0.0+0.0im  …  0.0+0.0im  0.0+0.0im  0.0+0.0im\n",
       " 0.0+0.0im  0.0+0.0im  0.0+0.0im     0.0+0.0im  0.0+0.0im  0.0+0.0im\n",
       " 0.0+0.0im  0.0+0.0im  0.0+0.0im     0.0+0.0im  0.0+0.0im  0.0+0.0im\n",
       " 0.0+0.0im  0.0+0.0im  0.0+0.0im     0.0+0.0im  0.0+0.0im  0.0+0.0im\n",
       " 0.0+0.0im  0.0+0.0im  0.0+0.0im     0.0+0.0im  0.0+0.0im  0.0+0.0im"
      ]
     },
     "execution_count": 10,
     "metadata": {},
     "output_type": "execute_result"
    }
   ],
   "source": [
    "Dᴿmatrix = Array{Array{ComplexF64,2},1}(undef,length(V_ph)+2)\n",
    "\n",
    "D̄ᴿmatrix = Array{Array{ComplexF64,2},1}(undef,length(V_ph)+2)\n",
    "\n",
    "Dᴷmatrix = Array{Array{ComplexF64,2},1}(undef,length(V_ph)+2)\n",
    "\n",
    "D̄ᴷmatrix = Array{Array{ComplexF64,2},1}(undef,length(V_ph)+2)\n",
    "\n",
    "Σ𝑝ᴿ = Array{ComplexF64,2}(undef,N𝑡+5,N𝑡+5)\n",
    "\n",
    "Σ𝑝ᴷ = Array{ComplexF64,2}(undef,N𝑡+5,N𝑡+5)"
   ]
  },
  {
   "cell_type": "code",
   "execution_count": 4,
   "metadata": {},
   "outputs": [
    {
     "data": {
      "text/plain": [
       "#1 (generic function with 1 method)"
      ]
     },
     "execution_count": 4,
     "metadata": {},
     "output_type": "execute_result"
    }
   ],
   "source": [
    "matinit = function ()\n",
    "    for i=1:length(V_ph)+2\n",
    "        Dᴿmatrix[i] = Array{ComplexF64,2}(undef,N𝑡+5,N𝑡+5)\n",
    "        D̄ᴿmatrix[i] = Array{ComplexF64,2}(undef,N𝑡+5,N𝑡+5)\n",
    "        Dᴷmatrix[i] = Array{ComplexF64,2}(undef,N𝑡+5,N𝑡+5)\n",
    "        D̄ᴷmatrix[i] = Array{ComplexF64,2}(undef,N𝑡+5,N𝑡+5)\n",
    "    end\n",
    "end"
   ]
  },
  {
   "cell_type": "markdown",
   "metadata": {},
   "source": [
    "## Convolutions"
   ]
  },
  {
   "cell_type": "code",
   "execution_count": 5,
   "metadata": {},
   "outputs": [
    {
     "data": {
      "text/plain": [
       "KA (generic function with 1 method)"
      ]
     },
     "execution_count": 5,
     "metadata": {},
     "output_type": "execute_result"
    }
   ],
   "source": [
    "function F(k,t₁,t₂)\n",
    "    if t₁>t₂\n",
    "        return sum(t->Σ𝑝ᴿ[k][t₁,t]*Dᴿmatrix[k][t,t₂]*h, collect(t₂:t₁))\n",
    "    elseif t₁==t₂\n",
    "        return 0\n",
    "    else\n",
    "        return \"You're convoluting in the opposite direction. Possible error at RR conv\"\n",
    "    end\n",
    "end\n",
    "\n",
    "function RK(k,t1,t2) #∫₀ᵗ Σ𝑝ᴿ⋅Dᴷ\n",
    "    if t1>1\n",
    "        return sum(t->Σ𝑝ᴿ[k][t1,t]*Dᴷmatrix[k][t,t2]*h, collect(1:t1))\n",
    "    else\n",
    "        return 0\n",
    "    end\n",
    "end\n",
    "\n",
    "function KA(k,t1,t2) #∫₀⋅Dᴿ\n",
    "    if t2>1\n",
    "        return sum(t->Σ𝑝ᴷ[k][t1,t]*Dᴿmatrix[k][t2,t] * h, collect(1:t2)) ## Dᴬ is just transpose of Dᴿ\n",
    "    else\n",
    "        return 0\n",
    "    end\n",
    "end"
   ]
  },
  {
   "cell_type": "code",
   "execution_count": 6,
   "metadata": {},
   "outputs": [
    {
     "data": {
      "text/plain": [
       "#9 (generic function with 1 method)"
      ]
     },
     "execution_count": 6,
     "metadata": {},
     "output_type": "execute_result"
    }
   ],
   "source": [
    "boxinitindex=1\n",
    "\n",
    "boxinit=function()\n",
    "\n",
    "    for k =1:length(V_ph)\n",
    "        for i=1:N𝑡\n",
    "            Dᴿmatrix[k][i,i]=0 #exactly 0\n",
    "            D̄ᴿmatrix[k][i,i]=-1 #exactly \n",
    "        end\n",
    "    end\n",
    "\n",
    "\n",
    "\n",
    "    ######## Box Initialization ############\n",
    "\n",
    "    #GF Initialization\n",
    "\n",
    "    for k=1:length(V_ph)\n",
    "        for i=1:boxinitindex\n",
    "            for j=1:boxinitindex\n",
    "                Dᴿmatrix[k][i,j] = D₀ᴿ(k,i,j)\n",
    "                D̄ᴿmatrix[k][i,j] = D̄₀ᴿ(k,i,j)\n",
    "                Dᴷmatrix[k][i,j] = D₀ᴷ(k,i,j,T𝑝)\n",
    "                D̄ᴷmatrix[k][i,j] = D̄₀ᴷ(k,i,j,T𝑝)\n",
    "            end\n",
    "        end\n",
    "    end\n",
    "end\n"
   ]
  },
  {
   "cell_type": "code",
   "execution_count": 8,
   "metadata": {},
   "outputs": [
    {
     "data": {
      "text/plain": [
       "Σᴷ (generic function with 2 methods)"
      ]
     },
     "execution_count": 8,
     "metadata": {},
     "output_type": "execute_result"
    }
   ],
   "source": [
    "function Σᴿ(t1,t2)\n",
    "    if abs(t1-t2)!=0\n",
    "        return -1/2*(1/√π)*λ^2*(tB^3)*((t1-t2)*ϵ)*exp(-1/4*tB^2*(t1-t2)^2*ϵ^2)\n",
    "    else\n",
    "        return 0            #return \"equal time error\"???\n",
    "    end\n",
    "end\n",
    "\n",
    "Σᴷ(ω,t) = 2*(λ^2)*ω*exp(-0.5*(ω^2/tB^2))*coth(ω/(2*Tb))*cos(ω*t)\n",
    "\n",
    "function Σᴷ(t)\n",
    "    dω=4*tB/()\n",
    "    steps = collect(-2*tB:dω:2*tB)\n",
    "    filter!(e->e!=0,steps)\n",
    "    result=Float64\n",
    "    result=0\n",
    "    for ω in steps\n",
    "        result = result + Σᴷ(ω,t)*dω\n",
    "    end\n",
    "    return (result/(2π))*im\n",
    "end"
   ]
  },
  {
   "cell_type": "code",
   "execution_count": null,
   "metadata": {},
   "outputs": [],
   "source": [
    "### Code to update the Sigma R, Sigma K matrix\n",
    "\n",
    "for i=1:N𝑡\n",
    "    Σ𝑝ᴿ[i,1] = Σᴿ(i,1)\n",
    "end\n",
    "\n",
    "for j=2:N𝑡\n",
    "    for i=j:N𝑡\n",
    "        Σ𝑝ᴿ[i,j] = Σ𝑝ᴿ[i-j+1,1]\n",
    "    end\n",
    "end\n",
    "\n",
    "\n",
    "for i=1:N𝑡\n",
    "    Σ𝑝ᴷ[i,1] = Σᴷ(i,1)\n",
    "end\n",
    "\n",
    "for i=1:N𝑡\n",
    "    Σ𝑝ᴷ[1,i] = Σᴷ(1,i)\n",
    "end\n",
    "\n",
    "for j=1:N𝑡\n",
    "    for i=j:N𝑡\n",
    "        Σ𝑝ᴷ[i,j] = Σ𝑝ᴷ[i-j+1,1]\n",
    "    end\n",
    "end\n",
    "\n",
    "for j=1:N𝑡\n",
    "    for i=j:N𝑡\n",
    "        Σ𝑝ᴷ[j,i] = Σ𝑝ᴷ[1,i-j+1]\n",
    "    end\n",
    "end"
   ]
  },
  {
   "cell_type": "code",
   "execution_count": null,
   "metadata": {},
   "outputs": [],
   "source": []
  },
  {
   "cell_type": "code",
   "execution_count": null,
   "metadata": {},
   "outputs": [],
   "source": [
    "matinit()\n",
    "boxinit()\n",
    "#Actual for loop\n",
    "testrange=100\n",
    "for i=boxinitindex:testrange         ### The diagonal value #should probably start from 2\n",
    "\n",
    "    #Update DR\n",
    "    for k=1:length(V_ph)\n",
    "        for j=1:i\n",
    "            if j<i\n",
    "                D̄ᴿmatrix[k][i,j] = ω𝑝(k)^2 * D₀ᴿ(k,i,i-1) * Dᴿmatrix[k][i-1,j] - D̄₀ᴿ(k,i,i-1) * D̄ᴿmatrix[k][i-1,j] + (h/2)*( D̄₀ᴿ(k,i,i)* F(k,i,j) + D̄₀ᴿ(k,i,i-1) * F(k,i-1,j) )\n",
    "            end\n",
    "            Dᴿmatrix[k][i+1,j] = D̄₀ᴿ(k,i+1,i) * Dᴿmatrix[k][i,j] + D₀ᴿ(k,i+1,i) * D̄ᴿmatrix[k][i,j] + (h/2)*D₀ᴿ(k,i+1,i)*F(k,i,j)\n",
    "        end\n",
    "    end\n",
    "\n",
    "     #Update DK\n",
    "     for k = 1:length(V_ph)\n",
    "         for j=1:i\n",
    "             D̄ᴷmatrix[k][i,j] = ω𝑝(k)^2 * D₀ᴿ(k,i,i-1) * Dᴷmatrix[k][i-1,j] - D̄₀ᴿ(k,i,i-1) * D̄ᴷmatrix[k][i-1,j] + (h/2)*(  D̄₀ᴿ(k,i,i)* RK(k,i,j) + D̄₀ᴿ(k,i,i-1)* RK(k,i-1,j) + D̄₀ᴿ(k,i,i)* KA(k,i,j) + D̄₀ᴿ(k,i,i-1)* KA(k,i-1,j) )\n",
    "             Dᴷmatrix[k][i+1,j] = D̄₀ᴿ(k,i+1,i) * Dᴷmatrix[k][i,j] + D₀ᴿ(k,i+1,i) * D̄ᴷmatrix[k][i,j] + (h/2)*( D₀ᴿ(k,i+1,i)* RK(k,i,j) + D₀ᴿ(k,i+1,i)* KA(k,i,j) )\n",
    "             Dᴷmatrix[k][j,i+1] = -conj(Dᴷmatrix[k][i+1,j])\n",
    "             D̄ᴷmatrix[k][j,i] = +conj(D̄ᴷmatrix[k][i,j])#what abt i,i entry? If Dk is imaginary, then it will just flip sign here.....? This term is to take care of that...Not sure\n",
    "         end\n",
    "     end\n",
    "\n",
    "    ############## Diagonal terms update #############\n",
    "\n",
    "    #Update DK(t+ϵ,t+ϵ) here, D̄(i,i) block is calculated already\n",
    "    for k=1:length(V_ph)\n",
    "        D̄ᴷmatrix[k][i+1,i] = ω𝑝(k)^2 * D₀ᴿ(k,i+1,i) * Dᴷmatrix[k][i,i] - D̄₀ᴿ(k,i+1,i) * D̄ᴷmatrix[k][i,i] + (h/2)*(  D̄₀ᴿ(k,i+1,i+1)* RK(k,i+1,i) + D̄₀ᴿ(k,i+1,i)* RK(k,i,i) + D̄₀ᴿ(k,i+1,i+1)* KA(k,i+1,i) + D̄₀ᴿ(k,i+1,i)* KA(k,i,i) )\n",
    "        D̄ᴷmatrix[k][i,i+1] = conj( D̄ᴷmatrix[k][i+1,i] )\n",
    "        Dᴷmatrix[k][i+1,i+1] = D̄₀ᴿ(k,i+1,i) * Dᴷmatrix[k][i,i+1] + D₀ᴿ(k,i+1,i) * D̄ᴷmatrix[k][i,i+1] + (h/2)*( D₀ᴿ(k,i+1,i)* RK(k,i,i+1) + D₀ᴿ(k,i+1,i)* KA(k,i,i+1) )\n",
    "    end\n",
    "\n",
    "end"
   ]
  }
 ],
 "metadata": {
  "kernelspec": {
   "display_name": "Julia 1.5.4",
   "language": "julia",
   "name": "julia-1.5"
  },
  "language_info": {
   "file_extension": ".jl",
   "mimetype": "application/julia",
   "name": "julia",
   "version": "1.5.4"
  }
 },
 "nbformat": 4,
 "nbformat_minor": 4
}
