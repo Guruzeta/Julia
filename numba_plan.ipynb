{
 "cells": [
  {
   "cell_type": "code",
   "execution_count": 286,
   "id": "bc74118c",
   "metadata": {},
   "outputs": [],
   "source": [
    "import cProfile"
   ]
  },
  {
   "cell_type": "code",
   "execution_count": 287,
   "id": "3c89d2b5",
   "metadata": {},
   "outputs": [],
   "source": [
    "import numpy as np\n",
    "import math\n",
    "import cmath\n",
    "import matplotlib.pyplot as plt\n",
    "import scipy.special as spl\n",
    "import scipy.integrate as integrate\n",
    "import pandas as pd\n",
    "from numba import jit,njit\n",
    "import numba as nb\n",
    "from numba import cfunc\n",
    "from NumbaQuadpack import quadpack_sig, dqags"
   ]
  },
  {
   "cell_type": "code",
   "execution_count": 288,
   "id": "68b94946",
   "metadata": {},
   "outputs": [],
   "source": [
    "\n",
    "#tBlist=np.array((8)) #enter the list of bath bandwidths that you want to simulate for\n",
    "#tB=8\n",
    "pie=np.pi\n",
    "# Time parameters\n",
    "h= 0.1 # enter the timestep to be used for simulation\n",
    "Time_max = 10\n",
    "Net_time=np.int64(np.floor(Time_max/h)) #\n",
    "testrange =Net_time\n",
    "\n",
    "\n",
    "Lambda= 1 #system bath coupling\n",
    "t_electron=1 #electron bandwidth= = σ\n",
    "a1=1  #lattice constant\n",
    "Temp_electron=0.1# electron temperature\n",
    "Temp_bath= 0.8 #the bath temperature\n",
    "mu_electron = 1  # chemical potential of the electron\n",
    "mu_bath = 1 #chem potential of the bath\n",
    "\n",
    "\n",
    "\n",
    "#volume parameters\n",
    "sitenum = 19 #the no. of sites in the lattice, same as number of momentum modes to be simulated - enter an ODD number\n",
    "a2=2*pie*(1/(sitenum*a1)) #reciprocal space lattice constant\n",
    "V_ph = np.arange(-0.5*sitenum*a2,0.5*a2*(sitenum+1),a2)#collect(-0.5*sitenum*a2:a2:0.5*a2*(sitenum+1))\n",
    "\n",
    "\n",
    "# electron parameters\n",
    "@njit\n",
    "def fermi(e,T,mu):\n",
    "    return 1/(np.exp((e-mu)*(1/T))+1)\n",
    "\n",
    "@njit\n",
    "def energy_electron(k):\n",
    "    return t_electron*(1-np.cos(V_ph[k]*a1))\n",
    "\n",
    "@njit\n",
    "def Gretarded(k,t1,t2):\n",
    "    return (t1>=t2)*complex(0,-1)*np.exp(complex(0,-1)*energy_electron(k)*(t1-t2)*h)\n",
    "\n",
    "@njit\n",
    "def Gkeldysh(k,t1,t2,Telectron,mu):\n",
    "    return -complex(0,1)*np.tanh((energy_electron(k)-mu)/(2*Telectron))*np.exp(-complex(0,1)*energy_electron(k)*(t1-t2)*h)\n",
    "\n",
    "#Gkeldysh =lambda k,t1,t2,Telectron,mu: -complex(0,1)*np.tanh((energy_electron(k)-mu)/(2*Telectron))*np.exp(-complex(0,1)*energy_electron(k)*(t1-t2)*h)\n",
    "\n",
    "\n",
    "\n",
    "#bath parameters\n",
    "@njit\n",
    "def J(w,tB):\n",
    "    return (2/tB)*np.sqrt( 1- (w/(2*tB))**2 )\n",
    "#J = lambda w,tB: (2/tB)*np.sqrt( 1- (w/(2*tB))**2 )\n",
    "\n",
    "\n",
    "\n",
    "\n",
    "@njit\n",
    "def SigmaR(t1,t2,tB):\n",
    "    if t1>t2:\n",
    "        sum1= -complex(0,1)*(Lambda**2)*(1)*(1/(tB))*( spl.j1(2*tB*abs(t1-t2)*h) / (abs(t1-t2)*h ) )\n",
    "        return sum1\n",
    "    else:\n",
    "        return 0\n",
    "@njit\n",
    "def sigmak(w,tB):\n",
    "    return -complex(0,1)*(Lambda**2)*J(w,tB)*np.tanh((w-mu_bath)/(2*Temp_bath))\n",
    "#=lambda w,tB: -complex(0,1)*(Lambda**2)*J(w,tB)*np.tanh((w-mu_bath)/(2*Temp_bath))\n",
    "\n",
    "@njit\n",
    "def SigmaK(t1,t2,tB):\n",
    "    dw=(1/10000)*4*tB\n",
    "    steps = np.arange(-2*tB,2*tB,dw) #collect(-2*tB:dω:2*tB)\n",
    "    result=0\n",
    "    for w in steps:\n",
    "        result = result + dw*sigmak(w,tB)*np.exp(-complex(0,1)*w*(t1-t2)*h)\n",
    "\n",
    "    return result/(2*pie)\n",
    "\n",
    "\n",
    "\n",
    "### spawning Gr & Gk matrices\n",
    "\n",
    "@njit\n",
    "def matinit():\n",
    "    A=[]\n",
    "    for i in range(len(V_ph)+2):\n",
    "        A.append( np.zeros((Net_time+5,Net_time+5),dtype=np.complex128))#Array{ComplexF64,2}(undef,Net_time+5,Net_time+5)\n",
    "        #Gkmatrix.append( np.zeros((Net_time+5,Net_time+5),dtype=np.complex128))\n",
    "    return A\n",
    "\n",
    "\n",
    "## Box Initialization ###\n",
    "boxinitindex=1\n",
    "\n",
    "@njit\n",
    "def boxinit_gr(A):\n",
    "\n",
    "    for k in range(len(V_ph)):\n",
    "        for i in range(Net_time):\n",
    "            A[k][i,i] = -complex(0,1) #exactly true           ## Gr(t,t)≂̸0\n",
    "\n",
    "                ###actual Box Initialization ###\n",
    "\n",
    "    #GF Initialization\n",
    "\n",
    "    for k in range(len(V_ph)):\n",
    "        for i in range(boxinitindex+1):\n",
    "            for j in range(boxinitindex+1):\n",
    "                A[k][i,j] = Gretarded(k,i,j)\n",
    "\n",
    "\n",
    "\n",
    "@njit\n",
    "def boxinit_gk(A):\n",
    "    for k in range(len(V_ph)):\n",
    "        for i in range(boxinitindex+1):\n",
    "            for j in range(boxinitindex+1):\n",
    "                A[k][i,j] = Gkeldysh(k,i,j,Temp_electron,mu_electron)\n",
    "\n",
    "\n",
    "@njit\n",
    "def clearoff(A):\n",
    "    r = A.shape[0]\n",
    "    for i in range(r):\n",
    "        A[i] = np.zeros((Net_time+5,Net_time+5),dtype=np.complex128)\n",
    "                    \n",
    "                \n",
    "                \n",
    "                \n",
    "#matrix definitions\n",
    "\n",
    "Grmatrix =np.array(matinit())      #  #numba doesn't know what Gr array contains, I use a tuple to get around this\n",
    "Gkmatrix = np.array(matinit()) #Array{Array{ComplexF64,2},1}(undef,length(V_ph)+2)\n",
    "\n",
    "SigmaRmatrix = np.zeros(shape=(Net_time+5,Net_time+5),dtype=np.complex128)#Array{ComplexF64,2}(undef,Net_time+5,Net_time+5)\n",
    "SigmaKmatrix = np.zeros(shape=(Net_time+5,Net_time+5),dtype=np.complex128)#Array{ComplexF64,2}(undef,Net_time+5,Net_time+5)\n",
    "\n",
    "\n",
    "\n",
    "#### Convolution definitions\n",
    "@njit\n",
    "def Sgma_conv_Gr(k,t1,t2):\n",
    "    sum=0\n",
    "    if t1>t2:\n",
    "        sum= SigmaRmatrix[t1,t2]*Grmatrix[k][t2,t2]*(h/2)\n",
    "        for i in range(t2+1,t1):\n",
    "            sum = sum + SigmaRmatrix[t1,i]*Grmatrix[k][i,t2]*h\n",
    "        return sum\n",
    "\n",
    "    else:\n",
    "        return 0\n",
    "\n",
    "\n",
    "Sgma_conv_Gr(2,10,1)\n",
    "\n",
    "@njit\n",
    "def Sgma_conv_GK(k,t1,t2):\n",
    "    sum=0\n",
    "    if t1>1:\n",
    "        sum = sum + SigmaRmatrix[t1,1]*Gkmatrix[k][1,t2]*(h/2)\n",
    "\n",
    "        for i in range(2,t1):               #2:t1-1\n",
    "            sum = sum+SigmaRmatrix[t1,i]*Gkmatrix[k][i,t2]*h\n",
    "\n",
    "        return sum\n",
    "\n",
    "    else:\n",
    "        return 0\n",
    "\n",
    "\n",
    "\n",
    "@njit\n",
    "def Sgma_conv_GA(k,t1,t2):\n",
    "    if t2>1:\n",
    "        sum=0\n",
    "        sum=sum+SigmaKmatrix[t1,1]* np.conjugate(Grmatrix[k][t2,1]) * h*(1/2)  #starting 1/2\n",
    "        sum=sum+ SigmaKmatrix[t1,t2]* np.conjugate(Grmatrix[k][t2,t2]) * h*(1/2) #ending 1/2\n",
    "\n",
    "        for i in range(2,t2):# i=2:t2-1:\n",
    "            sum=sum+ SigmaKmatrix[t1,i]* np.conjugate(Grmatrix[k][t2,i]) * h   #middle ones, they get h & not h/2 due to double addition\n",
    "\n",
    "        return sum\n",
    "\n",
    "    else:\n",
    "        return 0\n",
    "\n",
    "\n",
    "### Keeping stuff here that helps in plotting the results\n",
    "\n",
    "energyrange=np.zeros(len(V_ph))\n",
    "for k in range(len(V_ph)):\n",
    "    energyrange[k]=energy_electron(k)\n",
    "\n",
    "@njit\n",
    "def quadtest(x,en,tB):\n",
    "    return (1/pie)*fermi(x,Temp_bath,mu_bath)*(Lambda**2)*(J(x,tB))*( 1/( (x-en)**2 + (Lambda**2*J(x,tB))**2 ) )\n",
    "\n",
    "\n",
    "def newres(e,hop):  # computes n(E) i.e. equilibrium occupation at energy E using bath spectral function\n",
    "    return integrate.quad(quadtest, -2*hop,2*hop,args=(e,hop))\n"
   ]
  },
  {
   "cell_type": "code",
   "execution_count": 289,
   "id": "b00a134b",
   "metadata": {},
   "outputs": [
    {
     "data": {
      "text/plain": [
       "array([[[0.+0.j, 0.+0.j, 0.+0.j, ..., 0.+0.j, 0.+0.j, 0.+0.j],\n",
       "        [0.+0.j, 0.+0.j, 0.+0.j, ..., 0.+0.j, 0.+0.j, 0.+0.j],\n",
       "        [0.+0.j, 0.+0.j, 0.+0.j, ..., 0.+0.j, 0.+0.j, 0.+0.j],\n",
       "        ...,\n",
       "        [0.+0.j, 0.+0.j, 0.+0.j, ..., 0.+0.j, 0.+0.j, 0.+0.j],\n",
       "        [0.+0.j, 0.+0.j, 0.+0.j, ..., 0.+0.j, 0.+0.j, 0.+0.j],\n",
       "        [0.+0.j, 0.+0.j, 0.+0.j, ..., 0.+0.j, 0.+0.j, 0.+0.j]],\n",
       "\n",
       "       [[0.+0.j, 0.+0.j, 0.+0.j, ..., 0.+0.j, 0.+0.j, 0.+0.j],\n",
       "        [0.+0.j, 0.+0.j, 0.+0.j, ..., 0.+0.j, 0.+0.j, 0.+0.j],\n",
       "        [0.+0.j, 0.+0.j, 0.+0.j, ..., 0.+0.j, 0.+0.j, 0.+0.j],\n",
       "        ...,\n",
       "        [0.+0.j, 0.+0.j, 0.+0.j, ..., 0.+0.j, 0.+0.j, 0.+0.j],\n",
       "        [0.+0.j, 0.+0.j, 0.+0.j, ..., 0.+0.j, 0.+0.j, 0.+0.j],\n",
       "        [0.+0.j, 0.+0.j, 0.+0.j, ..., 0.+0.j, 0.+0.j, 0.+0.j]],\n",
       "\n",
       "       [[0.+0.j, 0.+0.j, 0.+0.j, ..., 0.+0.j, 0.+0.j, 0.+0.j],\n",
       "        [0.+0.j, 0.+0.j, 0.+0.j, ..., 0.+0.j, 0.+0.j, 0.+0.j],\n",
       "        [0.+0.j, 0.+0.j, 0.+0.j, ..., 0.+0.j, 0.+0.j, 0.+0.j],\n",
       "        ...,\n",
       "        [0.+0.j, 0.+0.j, 0.+0.j, ..., 0.+0.j, 0.+0.j, 0.+0.j],\n",
       "        [0.+0.j, 0.+0.j, 0.+0.j, ..., 0.+0.j, 0.+0.j, 0.+0.j],\n",
       "        [0.+0.j, 0.+0.j, 0.+0.j, ..., 0.+0.j, 0.+0.j, 0.+0.j]],\n",
       "\n",
       "       ...,\n",
       "\n",
       "       [[0.+0.j, 0.+0.j, 0.+0.j, ..., 0.+0.j, 0.+0.j, 0.+0.j],\n",
       "        [0.+0.j, 0.+0.j, 0.+0.j, ..., 0.+0.j, 0.+0.j, 0.+0.j],\n",
       "        [0.+0.j, 0.+0.j, 0.+0.j, ..., 0.+0.j, 0.+0.j, 0.+0.j],\n",
       "        ...,\n",
       "        [0.+0.j, 0.+0.j, 0.+0.j, ..., 0.+0.j, 0.+0.j, 0.+0.j],\n",
       "        [0.+0.j, 0.+0.j, 0.+0.j, ..., 0.+0.j, 0.+0.j, 0.+0.j],\n",
       "        [0.+0.j, 0.+0.j, 0.+0.j, ..., 0.+0.j, 0.+0.j, 0.+0.j]],\n",
       "\n",
       "       [[0.+0.j, 0.+0.j, 0.+0.j, ..., 0.+0.j, 0.+0.j, 0.+0.j],\n",
       "        [0.+0.j, 0.+0.j, 0.+0.j, ..., 0.+0.j, 0.+0.j, 0.+0.j],\n",
       "        [0.+0.j, 0.+0.j, 0.+0.j, ..., 0.+0.j, 0.+0.j, 0.+0.j],\n",
       "        ...,\n",
       "        [0.+0.j, 0.+0.j, 0.+0.j, ..., 0.+0.j, 0.+0.j, 0.+0.j],\n",
       "        [0.+0.j, 0.+0.j, 0.+0.j, ..., 0.+0.j, 0.+0.j, 0.+0.j],\n",
       "        [0.+0.j, 0.+0.j, 0.+0.j, ..., 0.+0.j, 0.+0.j, 0.+0.j]],\n",
       "\n",
       "       [[0.+0.j, 0.+0.j, 0.+0.j, ..., 0.+0.j, 0.+0.j, 0.+0.j],\n",
       "        [0.+0.j, 0.+0.j, 0.+0.j, ..., 0.+0.j, 0.+0.j, 0.+0.j],\n",
       "        [0.+0.j, 0.+0.j, 0.+0.j, ..., 0.+0.j, 0.+0.j, 0.+0.j],\n",
       "        ...,\n",
       "        [0.+0.j, 0.+0.j, 0.+0.j, ..., 0.+0.j, 0.+0.j, 0.+0.j],\n",
       "        [0.+0.j, 0.+0.j, 0.+0.j, ..., 0.+0.j, 0.+0.j, 0.+0.j],\n",
       "        [0.+0.j, 0.+0.j, 0.+0.j, ..., 0.+0.j, 0.+0.j, 0.+0.j]]])"
      ]
     },
     "execution_count": 289,
     "metadata": {},
     "output_type": "execute_result"
    }
   ],
   "source": [
    "Grmatrix"
   ]
  },
  {
   "cell_type": "code",
   "execution_count": null,
   "id": "f2b3a48b",
   "metadata": {},
   "outputs": [],
   "source": []
  },
  {
   "cell_type": "code",
   "execution_count": null,
   "id": "95fe2244",
   "metadata": {},
   "outputs": [],
   "source": []
  },
  {
   "cell_type": "code",
   "execution_count": 290,
   "id": "c9dd5fb2",
   "metadata": {},
   "outputs": [],
   "source": [
    "### Code to update the Sigma R, Sigma K matrix\n",
    "@njit\n",
    "def sigmaK_init(A):\n",
    "    # Sigma K matrix setup\n",
    "\n",
    "    for i in range(testrange):\n",
    "        A[i,0] = SigmaK(i,0,tB)\n",
    "        A[0,i] = -np.conj(A[i,0])\n",
    "\n",
    "    #\n",
    "    # for i in range(testrange):\n",
    "    #     A[0,i] = SigmaK(0,i,tB)\n",
    "\n",
    "    for j in range(testrange):\n",
    "        for i in range(j,testrange):\n",
    "            A[i,j] = A[i-j,0]\n",
    "\n",
    "    for j in range(testrange):\n",
    "        for i in range(j,testrange):\n",
    "            A[j,i] = A[0,i-j]\n",
    "\n",
    "\n",
    "@njit\n",
    "def sigmaR_init(B):\n",
    "    # Sigma R matrix setup\n",
    "    for i in range(testrange):\n",
    "        B[i,0] =SigmaR(i,0,tB)\n",
    "\n",
    "    for j in range(testrange):\n",
    "        for i in range(j,testrange):\n",
    "            B[i,j] = B[i-j,0]"
   ]
  },
  {
   "cell_type": "code",
   "execution_count": 291,
   "id": "eed31224",
   "metadata": {},
   "outputs": [
    {
     "data": {
      "text/plain": [
       "(105, 105)"
      ]
     },
     "execution_count": 291,
     "metadata": {},
     "output_type": "execute_result"
    }
   ],
   "source": [
    "Grmatrix[2].shape"
   ]
  },
  {
   "cell_type": "code",
   "execution_count": 292,
   "id": "6a7c0d75",
   "metadata": {},
   "outputs": [],
   "source": [
    "def evolution(tB,SigmaRmatrix,SigmaKmatrix,Grmatrix,Gkmatrix):\n",
    "    \n",
    "    clearoff(Grmatrix)\n",
    "    clearoff(Gkmatrix)\n",
    "    boxinit_gr(Grmatrix)\n",
    "    boxinit_gk(Gkmatrix)\n",
    "    sigmaK_init(SigmaKmatrix)\n",
    "    sigmaR_init(SigmaRmatrix)\n",
    "    \n",
    "    ###################################### Evolution equations start here #############################\n",
    "\n",
    "    ####### Gr evolution #########\n",
    "\n",
    "    for i in range(boxinitindex,testrange+1):     ### The diagonal value #should probably start from 2\n",
    "        # Update GR, GK edges\n",
    "        for k in range(len(V_ph)):\n",
    "            for j in range(i+1):\n",
    "                bessellimit = -complex(0,1)*(Lambda**2)*(1)#*(1)*(1/(tB))*2*tB*(1/2)# *(besselj1(2*tB*abs(t1-t2)*h)/(abs(t1-t2)*h))\n",
    "                endpoint = (h/2)* Gretarded(k,i+1,i+1)*bessellimit*(h/2)\n",
    "                endpnt = 1/(1-endpoint)\n",
    "                Grmatrix[k][i+1,j] = ( complex(0,1)*Gretarded(k,i+1,i)*Grmatrix[k][i,j]+ (h/2)* Gretarded(k,i+1,i)*(Sgma_conv_Gr(k,i,j) + (h/2)*bessellimit*Grmatrix[k][i,j] ) + (h/2)* Gretarded(k,i+1,i+1)*Sgma_conv_Gr(k,i+1,j) )*endpnt\n",
    "\n",
    "\n",
    "\n",
    "\n",
    "\n",
    "    ######### GK evolution ##############\n",
    "\n",
    "    for i in range(boxinitindex,testrange+1):     ### The diagonal value #should probably start from 2\n",
    "\n",
    "        # Update GR, GK edges\n",
    "        for k in range(len(V_ph)):\n",
    "            for j in range(i+1):\n",
    "                bessellimit = -complex(0,1)*(Lambda**2)*(1) #*(1)*(1/(tB))*2*tB*(1/2)# *(besselj1(2*tB*abs(t1-t2)*h)/(abs(t1-t2)*h))\n",
    "                endpoint = (h/2)* Gretarded(k,i+1,i+1)*bessellimit*(h/2)\n",
    "                endpnt=1/(1-endpoint)\n",
    "                Gkmatrix[k][i+1,j] = (complex(0,1)*Gretarded(k,i+1,i)*Gkmatrix[k][i,j]+ (h/2) * Gretarded(k,i+1,i) * ( Sgma_conv_GK(k,i,j)+ h/2*bessellimit*Gkmatrix[k][i,j] + Sgma_conv_GA(k,i,j) )+ (h/2) * Gretarded(k,i+1,i+1) * ( Sgma_conv_GK(k,i+1,j) + Sgma_conv_GA(k,i+1,j) ) )*endpnt\n",
    "                Gkmatrix[k][j,i+1] = - np.conj(Gkmatrix[k][i+1,j]) # iGᴷ is hermitian  ⟹ iGᴷ(1,2) = conj((iGᴷ(2,1)) ⟹ Gᴷ(1,2) = - conj(Gᴷ(2,1))\n",
    "\n",
    "\n",
    "        ## Diagonal terms update ##\n",
    "        #Update GK(t+ϵ,t+ϵ) i.e GK(i+1,i+1) here  - needs Σₑᴿ on the i+1 block edges  i.e.\n",
    "        for k in range(len(V_ph)):\n",
    "            bessellimit = -complex(0,1)*(Lambda**2)*(1)#*(1)*(1/(tB))*2*tB*(1/2)# *(besselj1(2*tB*abs(t1-t2)*h)/(abs(t1-t2)*h))\n",
    "            endpoint = (h/2)* Gretarded(k,i+1,i+1)*bessellimit*(h/2)\n",
    "            endpnt=1/(1-endpoint)\n",
    "            Gkmatrix[k][i+1,i+1] = (complex(0,1)*Gretarded(k,i+1,i)*Gkmatrix[k][i,i+1]+ (h/2)*Gretarded(k,i+1,i)*(Sgma_conv_GK(k,i,i+1)+h/2*bessellimit*Gkmatrix[k][i,i+1] + Sgma_conv_GA(k,i,i+1))+ (h/2) * Gretarded(k,i+1,i+1) * ( Sgma_conv_GK(k,i+1,i+1) + Sgma_conv_GA(k,i+1,i+1) ) )*endpnt\n",
    "\n",
    "    ########################### Evolution equations end here #############################\n",
    "    return Gkmatrix\n"
   ]
  },
  {
   "cell_type": "code",
   "execution_count": 235,
   "id": "402286f5",
   "metadata": {},
   "outputs": [
    {
     "name": "stdout",
     "output_type": "stream",
     "text": [
      "CPU times: user 27.5 ms, sys: 1.96 ms, total: 29.4 ms\n",
      "Wall time: 37.3 ms\n"
     ]
    }
   ],
   "source": [
    "# %%time\n",
    "# #comparing value from code with analytically computed ones\n",
    "\n",
    "# occupations= np.zeros((len(V_ph),testrange),dtype=np.complex128)\n",
    "# for i in range(testrange):\n",
    "#     for j in range(len(V_ph)):\n",
    "#         occupations[j,i]= (np.imag(Gkmatrix[j][i,i])+1)*0.5\n",
    "        \n",
    "# newoccu=np.zeros(len(V_ph),dtype=np.int64)\n",
    "# # thermal value storage - from bath spectral function\n",
    "\n",
    "# for k in range(len(V_ph)):\n",
    "#    val = newres(energy_electron(k),tB)[0]\n",
    "#    newoccu[k] = val"
   ]
  },
  {
   "cell_type": "code",
   "execution_count": 293,
   "id": "b52bd779",
   "metadata": {},
   "outputs": [],
   "source": [
    "jitted_evolution = njit()(evolution)"
   ]
  },
  {
   "cell_type": "code",
   "execution_count": 303,
   "id": "e53e4ee7",
   "metadata": {},
   "outputs": [
    {
     "name": "stdout",
     "output_type": "stream",
     "text": [
      "CPU times: user 176 ms, sys: 2.6 ms, total: 178 ms\n",
      "Wall time: 179 ms\n"
     ]
    },
    {
     "data": {
      "text/plain": [
       "array([[[ 0.00000000e+00-0.9999092j ,  1.98651292e-01-0.97997759j,\n",
       "          3.87440925e-01-0.91638396j, ...,  0.00000000e+00+0.j        ,\n",
       "          0.00000000e+00+0.j        ,  0.00000000e+00+0.j        ],\n",
       "        [-1.98651292e-01-0.97997759j,  0.00000000e+00-0.9999092j ,\n",
       "          1.97660513e-01-0.97508992j, ...,  0.00000000e+00+0.j        ,\n",
       "          0.00000000e+00+0.j        ,  0.00000000e+00+0.j        ],\n",
       "        [-3.87440925e-01-0.91638396j, -1.97660513e-01-0.97508992j,\n",
       "         -2.76322848e-17-0.98995992j, ...,  0.00000000e+00+0.j        ,\n",
       "          0.00000000e+00+0.j        ,  0.00000000e+00+0.j        ],\n",
       "        ...,\n",
       "        [ 0.00000000e+00+0.j        ,  0.00000000e+00+0.j        ,\n",
       "          0.00000000e+00+0.j        , ...,  0.00000000e+00+0.j        ,\n",
       "          0.00000000e+00+0.j        ,  0.00000000e+00+0.j        ],\n",
       "        [ 0.00000000e+00+0.j        ,  0.00000000e+00+0.j        ,\n",
       "          0.00000000e+00+0.j        , ...,  0.00000000e+00+0.j        ,\n",
       "          0.00000000e+00+0.j        ,  0.00000000e+00+0.j        ],\n",
       "        [ 0.00000000e+00+0.j        ,  0.00000000e+00+0.j        ,\n",
       "          0.00000000e+00+0.j        , ...,  0.00000000e+00+0.j        ,\n",
       "          0.00000000e+00+0.j        ,  0.00000000e+00+0.j        ]],\n",
       "\n",
       "       [[ 0.00000000e+00-0.99984391j,  1.93325989e-01-0.98097549j,\n",
       "          3.77463280e-01-0.92046849j, ...,  0.00000000e+00+0.j        ,\n",
       "          0.00000000e+00+0.j        ,  0.00000000e+00+0.j        ],\n",
       "        [-1.93325989e-01-0.98097549j,  0.00000000e+00-0.99984391j,\n",
       "          1.92361770e-01-0.97608285j, ...,  0.00000000e+00+0.j        ,\n",
       "          0.00000000e+00+0.j        ,  0.00000000e+00+0.j        ],\n",
       "        [-3.77463280e-01-0.92046849j, -1.92361770e-01-0.97608285j,\n",
       "         -2.76863597e-17-0.98989528j, ...,  0.00000000e+00+0.j        ,\n",
       "          0.00000000e+00+0.j        ,  0.00000000e+00+0.j        ],\n",
       "        ...,\n",
       "        [ 0.00000000e+00+0.j        ,  0.00000000e+00+0.j        ,\n",
       "          0.00000000e+00+0.j        , ...,  0.00000000e+00+0.j        ,\n",
       "          0.00000000e+00+0.j        ,  0.00000000e+00+0.j        ],\n",
       "        [ 0.00000000e+00+0.j        ,  0.00000000e+00+0.j        ,\n",
       "          0.00000000e+00+0.j        , ...,  0.00000000e+00+0.j        ,\n",
       "          0.00000000e+00+0.j        ,  0.00000000e+00+0.j        ],\n",
       "        [ 0.00000000e+00+0.j        ,  0.00000000e+00+0.j        ,\n",
       "          0.00000000e+00+0.j        , ...,  0.00000000e+00+0.j        ,\n",
       "          0.00000000e+00+0.j        ,  0.00000000e+00+0.j        ]],\n",
       "\n",
       "       [[ 0.00000000e+00-0.99925239j,  1.77828019e-01-0.98330186j,\n",
       "          3.48233358e-01-0.93129134j, ...,  0.00000000e+00+0.j        ,\n",
       "          0.00000000e+00+0.j        ,  0.00000000e+00+0.j        ],\n",
       "        [-1.77828019e-01-0.98330186j,  0.00000000e+00-0.99925239j,\n",
       "          1.76941096e-01-0.97839761j, ...,  0.00000000e+00+0.j        ,\n",
       "          0.00000000e+00+0.j        ,  0.00000000e+00+0.j        ],\n",
       "        [-3.48233358e-01-0.93129134j, -1.76941096e-01-0.97839761j,\n",
       "          0.00000000e+00-0.98930964j, ...,  0.00000000e+00+0.j        ,\n",
       "          0.00000000e+00+0.j        ,  0.00000000e+00+0.j        ],\n",
       "        ...,\n",
       "        [ 0.00000000e+00+0.j        ,  0.00000000e+00+0.j        ,\n",
       "          0.00000000e+00+0.j        , ...,  0.00000000e+00+0.j        ,\n",
       "          0.00000000e+00+0.j        ,  0.00000000e+00+0.j        ],\n",
       "        [ 0.00000000e+00+0.j        ,  0.00000000e+00+0.j        ,\n",
       "          0.00000000e+00+0.j        , ...,  0.00000000e+00+0.j        ,\n",
       "          0.00000000e+00+0.j        ,  0.00000000e+00+0.j        ],\n",
       "        [ 0.00000000e+00+0.j        ,  0.00000000e+00+0.j        ,\n",
       "          0.00000000e+00+0.j        , ...,  0.00000000e+00+0.j        ,\n",
       "          0.00000000e+00+0.j        ,  0.00000000e+00+0.j        ]],\n",
       "\n",
       "       ...,\n",
       "\n",
       "       [[ 0.00000000e+00-0.9999092j ,  1.98651292e-01-0.97997759j,\n",
       "          3.87440925e-01-0.91638396j, ...,  0.00000000e+00+0.j        ,\n",
       "          0.00000000e+00+0.j        ,  0.00000000e+00+0.j        ],\n",
       "        [-1.98651292e-01-0.97997759j,  0.00000000e+00-0.9999092j ,\n",
       "          1.97660513e-01-0.97508992j, ...,  0.00000000e+00+0.j        ,\n",
       "          0.00000000e+00+0.j        ,  0.00000000e+00+0.j        ],\n",
       "        [-3.87440925e-01-0.91638396j, -1.97660513e-01-0.97508992j,\n",
       "         -2.76322848e-17-0.98995992j, ...,  0.00000000e+00+0.j        ,\n",
       "          0.00000000e+00+0.j        ,  0.00000000e+00+0.j        ],\n",
       "        ...,\n",
       "        [ 0.00000000e+00+0.j        ,  0.00000000e+00+0.j        ,\n",
       "          0.00000000e+00+0.j        , ...,  0.00000000e+00+0.j        ,\n",
       "          0.00000000e+00+0.j        ,  0.00000000e+00+0.j        ],\n",
       "        [ 0.00000000e+00+0.j        ,  0.00000000e+00+0.j        ,\n",
       "          0.00000000e+00+0.j        , ...,  0.00000000e+00+0.j        ,\n",
       "          0.00000000e+00+0.j        ,  0.00000000e+00+0.j        ],\n",
       "        [ 0.00000000e+00+0.j        ,  0.00000000e+00+0.j        ,\n",
       "          0.00000000e+00+0.j        , ...,  0.00000000e+00+0.j        ,\n",
       "          0.00000000e+00+0.j        ,  0.00000000e+00+0.j        ]],\n",
       "\n",
       "       [[ 0.00000000e+00+0.j        ,  0.00000000e+00+0.j        ,\n",
       "          0.00000000e+00+0.j        , ...,  0.00000000e+00+0.j        ,\n",
       "          0.00000000e+00+0.j        ,  0.00000000e+00+0.j        ],\n",
       "        [ 0.00000000e+00+0.j        ,  0.00000000e+00+0.j        ,\n",
       "          0.00000000e+00+0.j        , ...,  0.00000000e+00+0.j        ,\n",
       "          0.00000000e+00+0.j        ,  0.00000000e+00+0.j        ],\n",
       "        [ 0.00000000e+00+0.j        ,  0.00000000e+00+0.j        ,\n",
       "          0.00000000e+00+0.j        , ...,  0.00000000e+00+0.j        ,\n",
       "          0.00000000e+00+0.j        ,  0.00000000e+00+0.j        ],\n",
       "        ...,\n",
       "        [ 0.00000000e+00+0.j        ,  0.00000000e+00+0.j        ,\n",
       "          0.00000000e+00+0.j        , ...,  0.00000000e+00+0.j        ,\n",
       "          0.00000000e+00+0.j        ,  0.00000000e+00+0.j        ],\n",
       "        [ 0.00000000e+00+0.j        ,  0.00000000e+00+0.j        ,\n",
       "          0.00000000e+00+0.j        , ...,  0.00000000e+00+0.j        ,\n",
       "          0.00000000e+00+0.j        ,  0.00000000e+00+0.j        ],\n",
       "        [ 0.00000000e+00+0.j        ,  0.00000000e+00+0.j        ,\n",
       "          0.00000000e+00+0.j        , ...,  0.00000000e+00+0.j        ,\n",
       "          0.00000000e+00+0.j        ,  0.00000000e+00+0.j        ]],\n",
       "\n",
       "       [[ 0.00000000e+00+0.j        ,  0.00000000e+00+0.j        ,\n",
       "          0.00000000e+00+0.j        , ...,  0.00000000e+00+0.j        ,\n",
       "          0.00000000e+00+0.j        ,  0.00000000e+00+0.j        ],\n",
       "        [ 0.00000000e+00+0.j        ,  0.00000000e+00+0.j        ,\n",
       "          0.00000000e+00+0.j        , ...,  0.00000000e+00+0.j        ,\n",
       "          0.00000000e+00+0.j        ,  0.00000000e+00+0.j        ],\n",
       "        [ 0.00000000e+00+0.j        ,  0.00000000e+00+0.j        ,\n",
       "          0.00000000e+00+0.j        , ...,  0.00000000e+00+0.j        ,\n",
       "          0.00000000e+00+0.j        ,  0.00000000e+00+0.j        ],\n",
       "        ...,\n",
       "        [ 0.00000000e+00+0.j        ,  0.00000000e+00+0.j        ,\n",
       "          0.00000000e+00+0.j        , ...,  0.00000000e+00+0.j        ,\n",
       "          0.00000000e+00+0.j        ,  0.00000000e+00+0.j        ],\n",
       "        [ 0.00000000e+00+0.j        ,  0.00000000e+00+0.j        ,\n",
       "          0.00000000e+00+0.j        , ...,  0.00000000e+00+0.j        ,\n",
       "          0.00000000e+00+0.j        ,  0.00000000e+00+0.j        ],\n",
       "        [ 0.00000000e+00+0.j        ,  0.00000000e+00+0.j        ,\n",
       "          0.00000000e+00+0.j        , ...,  0.00000000e+00+0.j        ,\n",
       "          0.00000000e+00+0.j        ,  0.00000000e+00+0.j        ]]])"
      ]
     },
     "execution_count": 303,
     "metadata": {},
     "output_type": "execute_result"
    }
   ],
   "source": [
    "%time jitted_evolution(40,SigmaRmatrix,SigmaKmatrix,Grmatrix,Gkmatrix)"
   ]
  },
  {
   "cell_type": "code",
   "execution_count": 305,
   "id": "e086f7b1",
   "metadata": {},
   "outputs": [],
   "source": [
    "testlist=[10]"
   ]
  },
  {
   "cell_type": "code",
   "execution_count": 306,
   "id": "3c90dace",
   "metadata": {},
   "outputs": [
    {
     "name": "stdout",
     "output_type": "stream",
     "text": [
      "CPU times: user 199 ms, sys: 5.62 ms, total: 205 ms\n",
      "Wall time: 208 ms\n"
     ]
    }
   ],
   "source": [
    "%%\n",
    "for bandwidth in testlist:\n",
    "    output = jitted_evolution(bandwidth,SigmaRmatrix,SigmaKmatrix,Grmatrix,Gkmatrix)\n",
    "    occupations= np.zeros((len(V_ph),testrange),dtype=np.complex128)\n",
    "    for i in range(testrange):\n",
    "        for j in range(len(V_ph)):\n",
    "            occupations[j,i]= (np.imag(output[j][i,i])+1)*0.5\n",
    "\n",
    "    newoccu=np.zeros(len(V_ph),dtype=np.int64)\n",
    "    # thermal value storage - from bath spectral function\n",
    "\n",
    "    for k in range(len(V_ph)):\n",
    "       val = newres(energy_electron(k),tB)[0]\n",
    "       newoccu[k] = val\n",
    "    \n",
    "    \n",
    "    outputfile=open(\"Bath bandwidth=%g,Telectron = %g,\\n Tbath =%g, mu_bath=%g,mu_electron=%g, time= %g * %g.csv\" %(bandwidth,Temp_electron,Temp_bath,mu_bath,mu_electron,h,testrange),\"w\")\n",
    "    outputfile.write(\"Energy, Occupation \\n\")\n",
    "    outputfile.write(\"Value from formula\")\n",
    "\n",
    "    outputfile.write(\"\\n\")\n",
    "\n",
    "    for k in range(len(V_ph)):\n",
    "        row_string=\"{},{}\".format(energyrange[k],newoccu[k])\n",
    "        outputfile.write(row_string)\n",
    "        outputfile.write(\"\\n\")\n",
    "    outputfile.write(\"total time %g\" %(Net_time))\n",
    "    outputfile.close()\n",
    "    \n",
    "    pd.DataFrame(occupations).to_csv(\"/Users/apple/Desktop/Bath_bandwidth=%g,Telectron = %g,\\n Tbath =%g, mu_bath=%g,mu_electron=%g, time= %g * %g.csv\"%(bandwidth,Temp_electron,Temp_bath,mu_bath,mu_electron,h,testrange))\n",
    "  \n",
    "\n"
   ]
  },
  {
   "cell_type": "code",
   "execution_count": null,
   "id": "1e1433c4",
   "metadata": {},
   "outputs": [],
   "source": [
    "\n",
    "#     #####################\n",
    "#     Code ends here\n",
    "#     now printing values onto .csv file\n",
    "#     ######################\n",
    "\n",
    "    outputfile=open(\"Bath bandwidth=%g,Telectron = %g,\\n Tbath =%g, mu_bath=%g,mu_electron=%g, time= %g * %g.csv\" %(tB,Temp_electron,Temp_bath,mu_bath,mu_electron,h,testrange),\"w\")\n",
    "\n",
    "    outputfile.write(\"Energy, Occupation \\n\")\n",
    "    outputfile.write(\"Value from formula\")\n",
    "\n",
    "    outputfile.write(\"\\n\")\n",
    "\n",
    "    for k in range(len(V_ph)):\n",
    "        row_string=\"{},{}\".format(energyrange[k],newoccu[k])\n",
    "        outputfile.write(row_string)\n",
    "        outputfile.write(\"\\n\")\n",
    "\n",
    "    #### CAUTION: CHANGE '/Users/gurukalyanjayasingh/Desktop/' TO respective path on your system ####\n",
    "\n",
    "    pd.DataFrame(occupations).to_csv(\"/Users/debikalyanjayasingh/Desktop/Temp_guru/Bath_bandwidth=%g,Telectron = %g,\\n Tbath =%g, mu_bath=%g,mu_electron=%g, time= %g * %g.csv\"%(tB,Temp_electron,Temp_bath,mu_bath,mu_electron,h,testrange))\n",
    "\n",
    "\n",
    "\n",
    "    for k in range(len(V_ph)):\n",
    "        row_string=\"{},{}\".format(energyrange[k],np.real(occupations[k,testrange-1]))\n",
    "        outputfile.write(row_string)\n",
    "        outputfile.write(\"\\n\")\n",
    "\n",
    "    outputfile.write(\"total time %g\" %(Net_time))\n",
    "\n",
    "    outputfile.close()\n"
   ]
  },
  {
   "cell_type": "code",
   "execution_count": null,
   "id": "850a0465",
   "metadata": {},
   "outputs": [],
   "source": []
  },
  {
   "cell_type": "code",
   "execution_count": 238,
   "id": "06060b2f",
   "metadata": {},
   "outputs": [],
   "source": [
    "jitter_simulation = jit()(simulation)\n",
    "superjit_simulation = njit()(simulation)"
   ]
  },
  {
   "cell_type": "code",
   "execution_count": 140,
   "id": "a6d27bb2",
   "metadata": {},
   "outputs": [
    {
     "name": "stdout",
     "output_type": "stream",
     "text": [
      "CPU times: user 20.3 s, sys: 50.8 ms, total: 20.4 s\n",
      "Wall time: 20.5 s\n"
     ]
    }
   ],
   "source": [
    "%time simulation(SigmaRmatrix,SigmaKmatrix,Grmatrix,Gkmatrix)"
   ]
  },
  {
   "cell_type": "code",
   "execution_count": 143,
   "id": "2c728d2f",
   "metadata": {},
   "outputs": [
    {
     "name": "stdout",
     "output_type": "stream",
     "text": [
      "CPU times: user 5.18 s, sys: 70.3 ms, total: 5.25 s\n",
      "Wall time: 5.27 s\n"
     ]
    }
   ],
   "source": [
    "%time jitter_simulation(SigmaRmatrix,SigmaKmatrix,Grmatrix,Gkmatrix)"
   ]
  },
  {
   "cell_type": "code",
   "execution_count": 242,
   "id": "13f0184b",
   "metadata": {},
   "outputs": [
    {
     "name": "stdout",
     "output_type": "stream",
     "text": [
      "CPU times: user 5 s, sys: 52.2 ms, total: 5.05 s\n",
      "Wall time: 5.01 s\n"
     ]
    }
   ],
   "source": [
    "%time superjit_simulation(tB,SigmaRmatrix,SigmaKmatrix,Grmatrix,Gkmatrix)"
   ]
  },
  {
   "cell_type": "code",
   "execution_count": 147,
   "id": "ec0cb07e",
   "metadata": {},
   "outputs": [
    {
     "name": "stdout",
     "output_type": "stream",
     "text": [
      "         4 function calls in 5.295 seconds\n",
      "\n",
      "   Ordered by: standard name\n",
      "\n",
      "   ncalls  tottime  percall  cumtime  percall filename:lineno(function)\n",
      "        1    5.295    5.295    5.295    5.295 <ipython-input-138-70f3f79c375b>:1(simulation)\n",
      "        1    0.000    0.000    5.295    5.295 <string>:1(<module>)\n",
      "        1    0.000    0.000    5.295    5.295 {built-in method builtins.exec}\n",
      "        1    0.000    0.000    0.000    0.000 {method 'disable' of '_lsprof.Profiler' objects}\n",
      "\n",
      "\n"
     ]
    }
   ],
   "source": [
    "cProfile.run('superjit_simulation(SigmaRmatrix,SigmaKmatrix,Grmatrix,Gkmatrix)')"
   ]
  },
  {
   "cell_type": "code",
   "execution_count": 153,
   "id": "9f9c2766",
   "metadata": {},
   "outputs": [
    {
     "name": "stdout",
     "output_type": "stream",
     "text": [
      "         12774906 function calls in 49.194 seconds\n",
      "\n",
      "   Ordered by: standard name\n",
      "\n",
      "   ncalls  tottime  percall  cumtime  percall filename:lineno(function)\n",
      "  1818000    2.170    0.000    2.170    0.000 <ipython-input-149-1cc8e5469a32>:134(Sgma_conv_Gr)\n",
      "  1830000    3.598    0.000    3.598    0.000 <ipython-input-149-1cc8e5469a32>:149(Sgma_conv_GK)\n",
      "  1830000    1.163    0.000    1.163    0.000 <ipython-input-149-1cc8e5469a32>:165(Sgma_conv_GA)\n",
      "  7296000    2.034    0.000    2.034    0.000 <ipython-input-149-1cc8e5469a32>:36(Gretarded)\n",
      "        1    0.174    0.174    0.174    0.174 <ipython-input-150-bc217e7b3dc4>:2(sigmaK_init)\n",
      "        1    0.000    0.000    0.000    0.000 <ipython-input-150-bc217e7b3dc4>:23(sigmaR_init)\n",
      "        1   40.055   40.055   49.194   49.194 <ipython-input-151-3cfd78362cf8>:1(simulation)\n",
      "        1    0.000    0.000   49.194   49.194 <string>:1(<module>)\n",
      "        1    0.000    0.000   49.194   49.194 {built-in method builtins.exec}\n",
      "      900    0.001    0.000    0.001    0.000 {built-in method builtins.len}\n",
      "        1    0.000    0.000    0.000    0.000 {method 'disable' of '_lsprof.Profiler' objects}\n",
      "\n",
      "\n"
     ]
    }
   ],
   "source": [
    "cProfile.run('simulation(SigmaRmatrix,SigmaKmatrix,Grmatrix,Gkmatrix)')"
   ]
  },
  {
   "cell_type": "code",
   "execution_count": null,
   "id": "e7e7e8c4",
   "metadata": {},
   "outputs": [],
   "source": []
  },
  {
   "cell_type": "code",
   "execution_count": null,
   "id": "f3e365c8",
   "metadata": {},
   "outputs": [],
   "source": []
  },
  {
   "cell_type": "code",
   "execution_count": null,
   "id": "66cf4166",
   "metadata": {},
   "outputs": [],
   "source": []
  },
  {
   "cell_type": "code",
   "execution_count": null,
   "id": "c12f06b0",
   "metadata": {},
   "outputs": [],
   "source": []
  },
  {
   "cell_type": "code",
   "execution_count": null,
   "id": "0face8aa",
   "metadata": {},
   "outputs": [],
   "source": []
  },
  {
   "cell_type": "code",
   "execution_count": null,
   "id": "64af4fdb",
   "metadata": {},
   "outputs": [],
   "source": []
  },
  {
   "cell_type": "code",
   "execution_count": null,
   "id": "f7b6dca1",
   "metadata": {},
   "outputs": [],
   "source": []
  },
  {
   "cell_type": "code",
   "execution_count": null,
   "id": "2d4cf5d3",
   "metadata": {},
   "outputs": [],
   "source": []
  },
  {
   "cell_type": "code",
   "execution_count": null,
   "id": "4b15244a",
   "metadata": {},
   "outputs": [],
   "source": []
  },
  {
   "cell_type": "code",
   "execution_count": null,
   "id": "c5c69b00",
   "metadata": {},
   "outputs": [],
   "source": []
  },
  {
   "cell_type": "markdown",
   "id": "751d764c",
   "metadata": {},
   "source": [
    "## Ok! So njit for loops must have njit functions in them. The only choice is then tonake everything njit."
   ]
  },
  {
   "cell_type": "markdown",
   "id": "8f01abed",
   "metadata": {},
   "source": [
    "https://stackoverflow.com/questions/32508628/can-numba-jit-nopython-handle-array-indexing-and-slicing"
   ]
  },
  {
   "cell_type": "markdown",
   "id": "7a7e2405",
   "metadata": {},
   "source": [
    "### In numba, global arrays are read only. Therefore, either explicitly pass it or create it in the function itself."
   ]
  },
  {
   "cell_type": "markdown",
   "id": "32c6658e",
   "metadata": {},
   "source": [
    "Option to speed up the newres function:\n",
    " - https://www.evanmcurtin.com/blog/numba-integrals/\n",
    "\n",
    "- https://numba.pydata.org/numba-doc/dev/user/cfunc.html\n",
    "- https://www.py4u.net/discuss/165057"
   ]
  },
  {
   "cell_type": "code",
   "execution_count": 199,
   "id": "0e7a75e2",
   "metadata": {},
   "outputs": [
    {
     "data": {
      "text/html": [
       "<style>.container { width:88% !important; }</style>"
      ],
      "text/plain": [
       "<IPython.core.display.HTML object>"
      ]
     },
     "metadata": {},
     "output_type": "display_data"
    }
   ],
   "source": [
    "from IPython.core.display import display, HTML\n",
    "display(HTML(\"<style>.container { width:88% !important; }</style>\"))"
   ]
  },
  {
   "cell_type": "markdown",
   "id": "e78adffe",
   "metadata": {},
   "source": [
    "Why did I use pandas?"
   ]
  },
  {
   "cell_type": "markdown",
   "id": "bfd410b9",
   "metadata": {},
   "source": [
    "Because I wanted to output the whole occupations at all times and not just the final times"
   ]
  }
 ],
 "metadata": {
  "kernelspec": {
   "display_name": "Python 3",
   "language": "python",
   "name": "python3"
  },
  "language_info": {
   "codemirror_mode": {
    "name": "ipython",
    "version": 3
   },
   "file_extension": ".py",
   "mimetype": "text/x-python",
   "name": "python",
   "nbconvert_exporter": "python",
   "pygments_lexer": "ipython3",
   "version": "3.8.8"
  }
 },
 "nbformat": 4,
 "nbformat_minor": 5
}
